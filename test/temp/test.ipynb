{
 "cells": [
  {
   "cell_type": "code",
   "execution_count": 6,
   "metadata": {},
   "outputs": [
    {
     "name": "stdout",
     "output_type": "stream",
     "text": [
      "found:  6 9\n",
      "found:  16 19\n"
     ]
    },
    {
     "data": {
      "text/plain": [
       "'geeks for geeks '"
      ]
     },
     "execution_count": 6,
     "metadata": {},
     "output_type": "execute_result"
    }
   ],
   "source": [
    "import re\n",
    "\n",
    "word = 'geeks for geeks for end'\n",
    "for m in re.finditer(\"for\", word):\n",
    "    last_start = m.start()\n",
    "    print(\"found: \", m.start(), m.end())\n",
    "\n",
    "cut_text = word[:last_start]\n",
    "cut_text"
   ]
  },
  {
   "cell_type": "code",
   "execution_count": 8,
   "metadata": {},
   "outputs": [
    {
     "name": "stdout",
     "output_type": "stream",
     "text": [
      "Its Me\n",
      "its me\n"
     ]
    }
   ],
   "source": [
    "me = \"Its Me\"\n",
    "you = me\n",
    "me = me.lower()\n",
    "print(you)\n",
    "print(me)"
   ]
  }
 ],
 "metadata": {
  "kernelspec": {
   "display_name": "py310",
   "language": "python",
   "name": "python3"
  },
  "language_info": {
   "codemirror_mode": {
    "name": "ipython",
    "version": 3
   },
   "file_extension": ".py",
   "mimetype": "text/x-python",
   "name": "python",
   "nbconvert_exporter": "python",
   "pygments_lexer": "ipython3",
   "version": "3.10.11"
  },
  "orig_nbformat": 4
 },
 "nbformat": 4,
 "nbformat_minor": 2
}
