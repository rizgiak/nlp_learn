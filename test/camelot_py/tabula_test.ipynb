{
 "cells": [
  {
   "cell_type": "code",
   "execution_count": 25,
   "metadata": {},
   "outputs": [
    {
     "name": "stderr",
     "output_type": "stream",
     "text": [
      "Got stderr: 6 19, 2023 5:14:43 午後 org.apache.pdfbox.pdmodel.font.PDSimpleFont toUnicode\n",
      "警告: No Unicode mapping for vector (126) in font UCYEAG+CMMI10\n",
      "6 19, 2023 5:14:44 午後 org.apache.pdfbox.pdmodel.font.PDSimpleFont toUnicode\n",
      "警告: No Unicode mapping for vector (126) in font UCYEAG+CMMI10\n",
      "6 19, 2023 5:14:44 午後 org.apache.pdfbox.pdmodel.font.PDSimpleFont toUnicode\n",
      "警告: No Unicode mapping for hatwider (99) in font NLTSYV+CMEX10\n",
      "6 19, 2023 5:14:44 午後 org.apache.pdfbox.pdmodel.font.PDSimpleFont toUnicode\n",
      "警告: No Unicode mapping for parenleftbigg (18) in font NLTSYV+CMEX10\n",
      "6 19, 2023 5:14:44 午後 org.apache.pdfbox.pdmodel.font.PDSimpleFont toUnicode\n",
      "警告: No Unicode mapping for parenrightbigg (19) in font NLTSYV+CMEX10\n",
      "6 19, 2023 5:14:44 午後 org.apache.pdfbox.pdmodel.font.PDSimpleFont toUnicode\n",
      "警告: No Unicode mapping for bardbl (107) in font IMRXWP+CMSY10\n",
      "6 19, 2023 5:14:45 午後 org.apache.pdfbox.pdmodel.font.PDSimpleFont toUnicode\n",
      "警告: No Unicode mapping for hatwider (99) in font NLTSYV+CMEX10\n",
      "6 19, 2023 5:14:45 午後 org.apache.pdfbox.pdmodel.font.PDSimpleFont toUnicode\n",
      "警告: No Unicode mapping for parenleftbigg (18) in font NLTSYV+CMEX10\n",
      "6 19, 2023 5:14:45 午後 org.apache.pdfbox.pdmodel.font.PDSimpleFont toUnicode\n",
      "警告: No Unicode mapping for parenrightbigg (19) in font NLTSYV+CMEX10\n",
      "6 19, 2023 5:14:45 午後 org.apache.pdfbox.pdmodel.font.PDSimpleFont toUnicode\n",
      "警告: No Unicode mapping for bardbl (107) in font IMRXWP+CMSY10\n",
      "6 19, 2023 5:14:45 午後 org.apache.pdfbox.pdmodel.font.PDSimpleFont toUnicode\n",
      "警告: No Unicode mapping for parenleftbig (0) in font NLTSYV+CMEX10\n",
      "6 19, 2023 5:14:45 午後 org.apache.pdfbox.pdmodel.font.PDSimpleFont toUnicode\n",
      "警告: No Unicode mapping for parenrightbig (1) in font NLTSYV+CMEX10\n",
      "6 19, 2023 5:14:46 午後 org.apache.pdfbox.pdmodel.font.PDSimpleFont toUnicode\n",
      "警告: No Unicode mapping for parenleftbig (0) in font NLTSYV+CMEX10\n",
      "6 19, 2023 5:14:46 午後 org.apache.pdfbox.pdmodel.font.PDSimpleFont toUnicode\n",
      "警告: No Unicode mapping for parenrightbig (1) in font NLTSYV+CMEX10\n",
      "\n"
     ]
    },
    {
     "name": "stdout",
     "output_type": "stream",
     "text": [
      "2\n"
     ]
    }
   ],
   "source": [
    "import tabula\n",
    "\n",
    "# Path to the PDF file\n",
    "pdf_path = '../../paper/yuan2020.pdf'\n",
    "\n",
    "# Extract tables from the PDF\n",
    "tables = tabula.read_pdf(pdf_path, pages=\"all\")\n",
    "\n",
    "print(len(tables))"
   ]
  },
  {
   "cell_type": "code",
   "execution_count": 10,
   "metadata": {},
   "outputs": [
    {
     "data": {
      "text/plain": [
       "4"
      ]
     },
     "execution_count": 10,
     "metadata": {},
     "output_type": "execute_result"
    }
   ],
   "source": [
    "tables[0].shape[1]"
   ]
  },
  {
   "cell_type": "code",
   "execution_count": 11,
   "metadata": {},
   "outputs": [
    {
     "name": "stdout",
     "output_type": "stream",
     "text": [
      "0\n",
      "0\n",
      "0\n",
      "0\n"
     ]
    }
   ],
   "source": [
    "tests = tables[0].isnull().sum()\n",
    "\n",
    "for test in tests:\n",
    "    print(test)"
   ]
  },
  {
   "cell_type": "code",
   "execution_count": 26,
   "metadata": {},
   "outputs": [],
   "source": [
    "def check_null_ratio(df, rate):\n",
    "    ret = True\n",
    "    total = df.shape[1]\n",
    "    sumation = df.isnull().sum()\n",
    "    list = [i/total > rate for i in sumation]\n",
    "    drop_list = []\n",
    "    for i, val in enumerate(list):\n",
    "        if val:\n",
    "            drop_list.append(i)\n",
    "            ret = False\n",
    "    df = df.drop(df.columns[drop_list], axis = 1)        \n",
    "    if not ret:\n",
    "        print(\"Recreate current table, reason: null rate = \", rate)\n",
    "    return df"
   ]
  },
  {
   "cell_type": "code",
   "execution_count": 32,
   "metadata": {},
   "outputs": [],
   "source": [
    "def check_cells_length(df, length):\n",
    "    ret = True\n",
    "    df_isnull = df.isnull()\n",
    "    ix, jx = df.shape\n",
    "    for i in range(ix):\n",
    "        for j in range(jx):\n",
    "            if df_isnull.iat[i, j] == False and len(str(df.iat[i, j])) > length:\n",
    "                ret = False\n",
    "    if not ret:\n",
    "        print(\"Skip current table, reason: cell's value is too long\")\n",
    "        print(df.head())\n",
    "        print(\"[END]\")\n",
    "    return ret"
   ]
  },
  {
   "cell_type": "code",
   "execution_count": 28,
   "metadata": {},
   "outputs": [],
   "source": [
    "def check_cols_length(df, length):\n",
    "    ret = True\n",
    "    cols = df.columns\n",
    "    cols_isnull = cols.isnull()\n",
    "    for i, val in enumerate(cols):\n",
    "        if cols_isnull[i] is False and len(val) > length:\n",
    "            ret = False\n",
    "    if not ret:\n",
    "        print(\"Skip current table, reason: col's value is too long\")\n",
    "        print(df.head())\n",
    "        print(\"[END]\")\n",
    "    return ret"
   ]
  },
  {
   "cell_type": "code",
   "execution_count": 33,
   "metadata": {},
   "outputs": [
    {
     "name": "stdout",
     "output_type": "stream",
     "text": [
      "Checking table  0\n",
      "Recreate current table, reason: null rate =  0.7\n",
      "Checking table  1\n",
      "Skip current table, reason: cell's value is too long\n",
      "   [1]                                        S. Yuan, A.   D.      Epps,  \\\n",
      "0  NaN                                     a roller-based  NaN  dexterous   \n",
      "1  NaN                                     manipulation,”  NaN    in 2020   \n",
      "2  NaN                          and Automation, May 2020.  NaN        NaN   \n",
      "3  [2]  C. Piazza, G. Grioli, M. Catalano, and A. Bicc...  NaN        NaN   \n",
      "4  NaN  hands,” Annual Review of Control, Robotics, an...  NaN        NaN   \n",
      "\n",
      "     J. B. Nowak, Unnamed: 0            and      J..1          K.  ...  \\\n",
      "0   NaN      hand        NaN     for object  grasping         NaN  ...   \n",
      "1  IEEE       NaN        NaN  International       NaN  Conference  ...   \n",
      "2   NaN       NaN        NaN            NaN       NaN         NaN  ...   \n",
      "3   NaN       NaN        NaN            NaN       NaN         NaN  ...   \n",
      "4   NaN       NaN        NaN            NaN       NaN         NaN  ...   \n",
      "\n",
      "  Unnamed: 2 Unnamed: 3                         manipulation using gravity  \\\n",
      "0        NaN        NaN                           International Conference   \n",
      "1        NaN        NaN                         pp. 5636–5641, IEEE, 2015.   \n",
      "2        NaN       [21]  D. L. Brock, “Enhancing the dexterity of a rob...   \n",
      "3        NaN        NaN  slip,” in Proceedings. 1988 IEEE International...   \n",
      "4        NaN        NaN           and Automation, pp. 249–251, IEEE, 1988.   \n",
      "\n",
      "   and.1   controlled  slip,”   in Unnamed: 4 2015 IEEE/RSJ Unnamed: 5  \n",
      "0     on  Intelligent  Robots  and        NaN       Systems    (IROS),  \n",
      "1    NaN          NaN     NaN  NaN        NaN           NaN        NaN  \n",
      "2    NaN          NaN     NaN  NaN        NaN           NaN        NaN  \n",
      "3    NaN          NaN     NaN  NaN        NaN           NaN        NaN  \n",
      "4    NaN          NaN     NaN  NaN        NaN           NaN        NaN  \n",
      "\n",
      "[5 rows x 24 columns]\n",
      "[END]\n"
     ]
    }
   ],
   "source": [
    "for idx, table in enumerate(tables):\n",
    "    print(\"Checking table \", idx)\n",
    "    is_ok = True\n",
    "\n",
    "    if is_ok:\n",
    "        is_ok = check_cells_length(table, 60)\n",
    "    if is_ok:\n",
    "        is_ok = check_cols_length(table, 60)\n",
    "\n",
    "    if is_ok:\n",
    "        table = check_null_ratio(table, 0.7)\n",
    "        table.to_csv('../../csv/output' + str(idx) + '.csv', encoding='utf-8')\n"
   ]
  }
 ],
 "metadata": {
  "kernelspec": {
   "display_name": "py310",
   "language": "python",
   "name": "python3"
  },
  "language_info": {
   "codemirror_mode": {
    "name": "ipython",
    "version": 3
   },
   "file_extension": ".py",
   "mimetype": "text/x-python",
   "name": "python",
   "nbconvert_exporter": "python",
   "pygments_lexer": "ipython3",
   "version": "3.10.11"
  },
  "orig_nbformat": 4
 },
 "nbformat": 4,
 "nbformat_minor": 2
}
