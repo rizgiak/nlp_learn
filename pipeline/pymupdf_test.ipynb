{
 "cells": [
  {
   "cell_type": "code",
   "execution_count": 1,
   "metadata": {},
   "outputs": [],
   "source": [
    "import fitz"
   ]
  },
  {
   "cell_type": "code",
   "execution_count": 7,
   "metadata": {},
   "outputs": [],
   "source": [
    "pdf = fitz.open(\"../paper/robotics-12-00057.pdf\")\n",
    "metadata = pdf.metadata\n",
    "pdf.close()"
   ]
  },
  {
   "cell_type": "code",
   "execution_count": 8,
   "metadata": {},
   "outputs": [
    {
     "data": {
      "text/plain": [
       "11"
      ]
     },
     "execution_count": 8,
     "metadata": {},
     "output_type": "execute_result"
    }
   ],
   "source": [
    "len(metadata)"
   ]
  },
  {
   "cell_type": "code",
   "execution_count": 9,
   "metadata": {},
   "outputs": [
    {
     "name": "stdout",
     "output_type": "stream",
     "text": [
      "format PDF 1.7\n",
      "title Tractor-Robot Cooperation: A Heterogeneous Leader-Follower Approach\n",
      "author El Houssein Chouaib Harik\n",
      "subject In this paper, we investigated the idea of including mobile robots as complementary machinery to tractors in an agricultural context. The main idea is not to replace the human farmer, but to augment his/her capabilities by deploying mobile robots as assistants in field operations. The scheme is based on a leader–follower approach. The manned tractor is used as a leader, which will be taken as a reference point for a follower. The follower then takes the position of the leader as a target, and follows it in an autonomous manner. This will allow the farmer to multiply the working width by the number of mobile robots deployed during field operations. In this paper, we present a detailed description of the system, the theoretical aspect that allows the robot to autonomously follow the tractor, in addition to the different experimental steps that allowed us to test the system in the field to assess the robustness of the proposed scheme.\n",
      "keywords precision agriculture; agricultural robots; leader–follower navigation; multi-vehicle operations\n",
      "creator LaTeX with hyperref\n",
      "producer pdfTeX-1.40.21\n",
      "creationDate D:20230406165303+08'00'\n",
      "modDate D:20230406105655+02'00'\n",
      "trapped \n",
      "encryption None\n"
     ]
    }
   ],
   "source": [
    "for idx, val in metadata.items():\n",
    "    print(idx,val)"
   ]
  },
  {
   "cell_type": "code",
   "execution_count": 10,
   "metadata": {},
   "outputs": [
    {
     "data": {
      "text/plain": [
       "dict"
      ]
     },
     "execution_count": 10,
     "metadata": {},
     "output_type": "execute_result"
    }
   ],
   "source": [
    "type(metadata)"
   ]
  },
  {
   "cell_type": "code",
   "execution_count": 16,
   "metadata": {},
   "outputs": [],
   "source": [
    "import json\n",
    "\n",
    "json_obj = json.dumps(metadata, ensure_ascii=False)"
   ]
  },
  {
   "cell_type": "code",
   "execution_count": 17,
   "metadata": {},
   "outputs": [
    {
     "data": {
      "text/plain": [
       "'{\"format\": \"PDF 1.7\", \"title\": \"Tractor-Robot Cooperation: A Heterogeneous Leader-Follower Approach\", \"author\": \"El Houssein Chouaib Harik\", \"subject\": \"In this paper, we investigated the idea of including mobile robots as complementary machinery to tractors in an agricultural context. The main idea is not to replace the human farmer, but to augment his/her capabilities by deploying mobile robots as assistants in field operations. The scheme is based on a leader–follower approach. The manned tractor is used as a leader, which will be taken as a reference point for a follower. The follower then takes the position of the leader as a target, and follows it in an autonomous manner. This will allow the farmer to multiply the working width by the number of mobile robots deployed during field operations. In this paper, we present a detailed description of the system, the theoretical aspect that allows the robot to autonomously follow the tractor, in addition to the different experimental steps that allowed us to test the system in the field to assess the robustness of the proposed scheme.\", \"keywords\": \"precision agriculture; agricultural robots; leader–follower navigation; multi-vehicle operations\", \"creator\": \"LaTeX with hyperref\", \"producer\": \"pdfTeX-1.40.21\", \"creationDate\": \"D:20230406165303+08\\'00\\'\", \"modDate\": \"D:20230406105655+02\\'00\\'\", \"trapped\": \"\", \"encryption\": null}'"
      ]
     },
     "execution_count": 17,
     "metadata": {},
     "output_type": "execute_result"
    }
   ],
   "source": [
    "json_obj"
   ]
  },
  {
   "cell_type": "code",
   "execution_count": 15,
   "metadata": {},
   "outputs": [],
   "source": [
    "with open(\"dump.txt\", \"w\", encoding=\"utf-8\", errors='ignore') as file:\n",
    "        file.write(str(json_obj))"
   ]
  }
 ],
 "metadata": {
  "kernelspec": {
   "display_name": "py310",
   "language": "python",
   "name": "python3"
  },
  "language_info": {
   "codemirror_mode": {
    "name": "ipython",
    "version": 3
   },
   "file_extension": ".py",
   "mimetype": "text/x-python",
   "name": "python",
   "nbconvert_exporter": "python",
   "pygments_lexer": "ipython3",
   "version": "3.10.11"
  },
  "orig_nbformat": 4
 },
 "nbformat": 4,
 "nbformat_minor": 2
}
