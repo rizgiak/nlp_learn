{
 "cells": [
  {
   "cell_type": "code",
   "execution_count": 2,
   "metadata": {
    "executionInfo": {
     "elapsed": 256,
     "status": "ok",
     "timestamp": 1686542758414,
     "user": {
      "displayName": "Aulia Khilmi Rizgi",
      "userId": "16465661636667067588"
     },
     "user_tz": -540
    },
    "id": "YElH6E9qj1v3"
   },
   "outputs": [],
   "source": [
    "import numpy as np\n",
    "import pandas as pd\n",
    "import seaborn as sn\n",
    "import tensorflow as tf\n",
    "import matplotlib.pyplot as plt\n",
    "from sklearn.model_selection import train_test_split\n",
    "from sklearn.feature_extraction.text import TfidfVectorizer\n",
    "from sklearn.metrics import roc_auc_score, f1_score, confusion_matrix\n",
    "\n",
    "from tensorflow import keras\n",
    "from keras.layers import Dense, Input\n",
    "from keras.models import Model\n",
    "from keras.losses import BinaryCrossentropy\n",
    "from keras.optimizers import Adam"
   ]
  },
  {
   "cell_type": "code",
   "execution_count": 3,
   "metadata": {
    "colab": {
     "base_uri": "https://localhost:8080/"
    },
    "executionInfo": {
     "elapsed": 1846,
     "status": "ok",
     "timestamp": 1686539115706,
     "user": {
      "displayName": "Aulia Khilmi Rizgi",
      "userId": "16465661636667067588"
     },
     "user_tz": -540
    },
    "id": "jEc_xi69kIwD",
    "outputId": "733809d1-9a26-4ae2-a656-c27141d5b1dc"
   },
   "outputs": [
    {
     "name": "stderr",
     "output_type": "stream",
     "text": [
      "File 'AirlineTweets.csv' already there; not retrieving.\n",
      "\n"
     ]
    }
   ],
   "source": [
    "!wget -nc https://lazyprogrammer.me/course_files/AirlineTweets.csv"
   ]
  },
  {
   "cell_type": "code",
   "execution_count": 4,
   "metadata": {
    "executionInfo": {
     "elapsed": 242,
     "status": "ok",
     "timestamp": 1686540828324,
     "user": {
      "displayName": "Aulia Khilmi Rizgi",
      "userId": "16465661636667067588"
     },
     "user_tz": -540
    },
    "id": "pDzJvFltj1v6"
   },
   "outputs": [],
   "source": [
    "np.random.seed(0)\n",
    "tf.random.set_seed(0)"
   ]
  },
  {
   "cell_type": "code",
   "execution_count": 5,
   "metadata": {
    "colab": {
     "base_uri": "https://localhost:8080/",
     "height": 496
    },
    "executionInfo": {
     "elapsed": 243,
     "status": "ok",
     "timestamp": 1686540832534,
     "user": {
      "displayName": "Aulia Khilmi Rizgi",
      "userId": "16465661636667067588"
     },
     "user_tz": -540
    },
    "id": "DSLE4l-7j1v6",
    "outputId": "4582d0d7-473c-47a4-85f8-27ebd8874151"
   },
   "outputs": [
    {
     "data": {
      "text/html": [
       "<div>\n",
       "<style scoped>\n",
       "    .dataframe tbody tr th:only-of-type {\n",
       "        vertical-align: middle;\n",
       "    }\n",
       "\n",
       "    .dataframe tbody tr th {\n",
       "        vertical-align: top;\n",
       "    }\n",
       "\n",
       "    .dataframe thead th {\n",
       "        text-align: right;\n",
       "    }\n",
       "</style>\n",
       "<table border=\"1\" class=\"dataframe\">\n",
       "  <thead>\n",
       "    <tr style=\"text-align: right;\">\n",
       "      <th></th>\n",
       "      <th>tweet_id</th>\n",
       "      <th>airline_sentiment</th>\n",
       "      <th>airline_sentiment_confidence</th>\n",
       "      <th>negativereason</th>\n",
       "      <th>negativereason_confidence</th>\n",
       "      <th>airline</th>\n",
       "      <th>airline_sentiment_gold</th>\n",
       "      <th>name</th>\n",
       "      <th>negativereason_gold</th>\n",
       "      <th>retweet_count</th>\n",
       "      <th>text</th>\n",
       "      <th>tweet_coord</th>\n",
       "      <th>tweet_created</th>\n",
       "      <th>tweet_location</th>\n",
       "      <th>user_timezone</th>\n",
       "    </tr>\n",
       "  </thead>\n",
       "  <tbody>\n",
       "    <tr>\n",
       "      <th>0</th>\n",
       "      <td>570306133677760513</td>\n",
       "      <td>neutral</td>\n",
       "      <td>1.0000</td>\n",
       "      <td>NaN</td>\n",
       "      <td>NaN</td>\n",
       "      <td>Virgin America</td>\n",
       "      <td>NaN</td>\n",
       "      <td>cairdin</td>\n",
       "      <td>NaN</td>\n",
       "      <td>0</td>\n",
       "      <td>@VirginAmerica What @dhepburn said.</td>\n",
       "      <td>NaN</td>\n",
       "      <td>2015-02-24 11:35:52 -0800</td>\n",
       "      <td>NaN</td>\n",
       "      <td>Eastern Time (US &amp; Canada)</td>\n",
       "    </tr>\n",
       "    <tr>\n",
       "      <th>1</th>\n",
       "      <td>570301130888122368</td>\n",
       "      <td>positive</td>\n",
       "      <td>0.3486</td>\n",
       "      <td>NaN</td>\n",
       "      <td>0.0000</td>\n",
       "      <td>Virgin America</td>\n",
       "      <td>NaN</td>\n",
       "      <td>jnardino</td>\n",
       "      <td>NaN</td>\n",
       "      <td>0</td>\n",
       "      <td>@VirginAmerica plus you've added commercials t...</td>\n",
       "      <td>NaN</td>\n",
       "      <td>2015-02-24 11:15:59 -0800</td>\n",
       "      <td>NaN</td>\n",
       "      <td>Pacific Time (US &amp; Canada)</td>\n",
       "    </tr>\n",
       "    <tr>\n",
       "      <th>2</th>\n",
       "      <td>570301083672813571</td>\n",
       "      <td>neutral</td>\n",
       "      <td>0.6837</td>\n",
       "      <td>NaN</td>\n",
       "      <td>NaN</td>\n",
       "      <td>Virgin America</td>\n",
       "      <td>NaN</td>\n",
       "      <td>yvonnalynn</td>\n",
       "      <td>NaN</td>\n",
       "      <td>0</td>\n",
       "      <td>@VirginAmerica I didn't today... Must mean I n...</td>\n",
       "      <td>NaN</td>\n",
       "      <td>2015-02-24 11:15:48 -0800</td>\n",
       "      <td>Lets Play</td>\n",
       "      <td>Central Time (US &amp; Canada)</td>\n",
       "    </tr>\n",
       "    <tr>\n",
       "      <th>3</th>\n",
       "      <td>570301031407624196</td>\n",
       "      <td>negative</td>\n",
       "      <td>1.0000</td>\n",
       "      <td>Bad Flight</td>\n",
       "      <td>0.7033</td>\n",
       "      <td>Virgin America</td>\n",
       "      <td>NaN</td>\n",
       "      <td>jnardino</td>\n",
       "      <td>NaN</td>\n",
       "      <td>0</td>\n",
       "      <td>@VirginAmerica it's really aggressive to blast...</td>\n",
       "      <td>NaN</td>\n",
       "      <td>2015-02-24 11:15:36 -0800</td>\n",
       "      <td>NaN</td>\n",
       "      <td>Pacific Time (US &amp; Canada)</td>\n",
       "    </tr>\n",
       "    <tr>\n",
       "      <th>4</th>\n",
       "      <td>570300817074462722</td>\n",
       "      <td>negative</td>\n",
       "      <td>1.0000</td>\n",
       "      <td>Can't Tell</td>\n",
       "      <td>1.0000</td>\n",
       "      <td>Virgin America</td>\n",
       "      <td>NaN</td>\n",
       "      <td>jnardino</td>\n",
       "      <td>NaN</td>\n",
       "      <td>0</td>\n",
       "      <td>@VirginAmerica and it's a really big bad thing...</td>\n",
       "      <td>NaN</td>\n",
       "      <td>2015-02-24 11:14:45 -0800</td>\n",
       "      <td>NaN</td>\n",
       "      <td>Pacific Time (US &amp; Canada)</td>\n",
       "    </tr>\n",
       "  </tbody>\n",
       "</table>\n",
       "</div>"
      ],
      "text/plain": [
       "             tweet_id airline_sentiment  airline_sentiment_confidence  \\\n",
       "0  570306133677760513           neutral                        1.0000   \n",
       "1  570301130888122368          positive                        0.3486   \n",
       "2  570301083672813571           neutral                        0.6837   \n",
       "3  570301031407624196          negative                        1.0000   \n",
       "4  570300817074462722          negative                        1.0000   \n",
       "\n",
       "  negativereason  negativereason_confidence         airline  \\\n",
       "0            NaN                        NaN  Virgin America   \n",
       "1            NaN                     0.0000  Virgin America   \n",
       "2            NaN                        NaN  Virgin America   \n",
       "3     Bad Flight                     0.7033  Virgin America   \n",
       "4     Can't Tell                     1.0000  Virgin America   \n",
       "\n",
       "  airline_sentiment_gold        name negativereason_gold  retweet_count  \\\n",
       "0                    NaN     cairdin                 NaN              0   \n",
       "1                    NaN    jnardino                 NaN              0   \n",
       "2                    NaN  yvonnalynn                 NaN              0   \n",
       "3                    NaN    jnardino                 NaN              0   \n",
       "4                    NaN    jnardino                 NaN              0   \n",
       "\n",
       "                                                text tweet_coord  \\\n",
       "0                @VirginAmerica What @dhepburn said.         NaN   \n",
       "1  @VirginAmerica plus you've added commercials t...         NaN   \n",
       "2  @VirginAmerica I didn't today... Must mean I n...         NaN   \n",
       "3  @VirginAmerica it's really aggressive to blast...         NaN   \n",
       "4  @VirginAmerica and it's a really big bad thing...         NaN   \n",
       "\n",
       "               tweet_created tweet_location               user_timezone  \n",
       "0  2015-02-24 11:35:52 -0800            NaN  Eastern Time (US & Canada)  \n",
       "1  2015-02-24 11:15:59 -0800            NaN  Pacific Time (US & Canada)  \n",
       "2  2015-02-24 11:15:48 -0800      Lets Play  Central Time (US & Canada)  \n",
       "3  2015-02-24 11:15:36 -0800            NaN  Pacific Time (US & Canada)  \n",
       "4  2015-02-24 11:14:45 -0800            NaN  Pacific Time (US & Canada)  "
      ]
     },
     "execution_count": 5,
     "metadata": {},
     "output_type": "execute_result"
    }
   ],
   "source": [
    "df = pd.read_csv(\"AirlineTweets.csv\")\n",
    "df.head()"
   ]
  },
  {
   "cell_type": "code",
   "execution_count": 6,
   "metadata": {
    "executionInfo": {
     "elapsed": 233,
     "status": "ok",
     "timestamp": 1686540840145,
     "user": {
      "displayName": "Aulia Khilmi Rizgi",
      "userId": "16465661636667067588"
     },
     "user_tz": -540
    },
    "id": "5oBToF23j1v7"
   },
   "outputs": [],
   "source": [
    "df = df[[\"airline_sentiment\", \"text\"]]"
   ]
  },
  {
   "cell_type": "code",
   "execution_count": 7,
   "metadata": {
    "colab": {
     "base_uri": "https://localhost:8080/",
     "height": 447
    },
    "executionInfo": {
     "elapsed": 459,
     "status": "ok",
     "timestamp": 1686540841567,
     "user": {
      "displayName": "Aulia Khilmi Rizgi",
      "userId": "16465661636667067588"
     },
     "user_tz": -540
    },
    "id": "JFxEM5Qkj1v7",
    "outputId": "404e9ca3-1530-4b28-c7fb-3729691acd66"
   },
   "outputs": [
    {
     "data": {
      "text/plain": [
       "<Axes: >"
      ]
     },
     "execution_count": 7,
     "metadata": {},
     "output_type": "execute_result"
    },
    {
     "data": {
      "image/png": "[encoded data removed]",
      "text/plain": [
       "<Figure size 640x480 with 1 Axes>"
      ]
     },
     "metadata": {},
     "output_type": "display_data"
    }
   ],
   "source": [
    "df[\"airline_sentiment\"].hist()"
   ]
  },
  {
   "cell_type": "code",
   "execution_count": 8,
   "metadata": {
    "executionInfo": {
     "elapsed": 251,
     "status": "ok",
     "timestamp": 1686540843755,
     "user": {
      "displayName": "Aulia Khilmi Rizgi",
      "userId": "16465661636667067588"
     },
     "user_tz": -540
    },
    "id": "uZbhhIdrj1v8"
   },
   "outputs": [],
   "source": [
    "df = df[df[\"airline_sentiment\"] != \"neutral\"].copy()"
   ]
  },
  {
   "cell_type": "code",
   "execution_count": 9,
   "metadata": {
    "colab": {
     "base_uri": "https://localhost:8080/",
     "height": 447
    },
    "executionInfo": {
     "elapsed": 407,
     "status": "ok",
     "timestamp": 1686540844815,
     "user": {
      "displayName": "Aulia Khilmi Rizgi",
      "userId": "16465661636667067588"
     },
     "user_tz": -540
    },
    "id": "i9QWq4zBj1v8",
    "outputId": "a4440713-c4f0-45dd-f656-19d1b48ebfff"
   },
   "outputs": [
    {
     "data": {
      "text/plain": [
       "<Axes: >"
      ]
     },
     "execution_count": 9,
     "metadata": {},
     "output_type": "execute_result"
    },
    {
     "data": {
      "image/png": "[encoded data removed]",
      "text/plain": [
       "<Figure size 640x480 with 1 Axes>"
      ]
     },
     "metadata": {},
     "output_type": "display_data"
    }
   ],
   "source": [
    "df[\"airline_sentiment\"].hist()"
   ]
  },
  {
   "cell_type": "code",
   "execution_count": 10,
   "metadata": {
    "executionInfo": {
     "elapsed": 305,
     "status": "ok",
     "timestamp": 1686540849309,
     "user": {
      "displayName": "Aulia Khilmi Rizgi",
      "userId": "16465661636667067588"
     },
     "user_tz": -540
    },
    "id": "NkgXdu_sj1v8"
   },
   "outputs": [],
   "source": [
    "target_map = {\"positive\":1, \"negative\":0}\n",
    "df[\"target\"] = df[\"airline_sentiment\"].map(target_map)"
   ]
  },
  {
   "cell_type": "code",
   "execution_count": 11,
   "metadata": {
    "colab": {
     "base_uri": "https://localhost:8080/",
     "height": 206
    },
    "executionInfo": {
     "elapsed": 249,
     "status": "ok",
     "timestamp": 1686539138716,
     "user": {
      "displayName": "Aulia Khilmi Rizgi",
      "userId": "16465661636667067588"
     },
     "user_tz": -540
    },
    "id": "NukZWFy6j1v9",
    "outputId": "e7969eac-29c2-4c67-edd5-148ee75ffe60"
   },
   "outputs": [
    {
     "data": {
      "text/html": [
       "<div>\n",
       "<style scoped>\n",
       "    .dataframe tbody tr th:only-of-type {\n",
       "        vertical-align: middle;\n",
       "    }\n",
       "\n",
       "    .dataframe tbody tr th {\n",
       "        vertical-align: top;\n",
       "    }\n",
       "\n",
       "    .dataframe thead th {\n",
       "        text-align: right;\n",
       "    }\n",
       "</style>\n",
       "<table border=\"1\" class=\"dataframe\">\n",
       "  <thead>\n",
       "    <tr style=\"text-align: right;\">\n",
       "      <th></th>\n",
       "      <th>airline_sentiment</th>\n",
       "      <th>text</th>\n",
       "      <th>target</th>\n",
       "    </tr>\n",
       "  </thead>\n",
       "  <tbody>\n",
       "    <tr>\n",
       "      <th>1</th>\n",
       "      <td>positive</td>\n",
       "      <td>@VirginAmerica plus you've added commercials t...</td>\n",
       "      <td>1</td>\n",
       "    </tr>\n",
       "    <tr>\n",
       "      <th>3</th>\n",
       "      <td>negative</td>\n",
       "      <td>@VirginAmerica it's really aggressive to blast...</td>\n",
       "      <td>0</td>\n",
       "    </tr>\n",
       "    <tr>\n",
       "      <th>4</th>\n",
       "      <td>negative</td>\n",
       "      <td>@VirginAmerica and it's a really big bad thing...</td>\n",
       "      <td>0</td>\n",
       "    </tr>\n",
       "    <tr>\n",
       "      <th>5</th>\n",
       "      <td>negative</td>\n",
       "      <td>@VirginAmerica seriously would pay $30 a fligh...</td>\n",
       "      <td>0</td>\n",
       "    </tr>\n",
       "    <tr>\n",
       "      <th>6</th>\n",
       "      <td>positive</td>\n",
       "      <td>@VirginAmerica yes, nearly every time I fly VX...</td>\n",
       "      <td>1</td>\n",
       "    </tr>\n",
       "  </tbody>\n",
       "</table>\n",
       "</div>"
      ],
      "text/plain": [
       "  airline_sentiment                                               text  target\n",
       "1          positive  @VirginAmerica plus you've added commercials t...       1\n",
       "3          negative  @VirginAmerica it's really aggressive to blast...       0\n",
       "4          negative  @VirginAmerica and it's a really big bad thing...       0\n",
       "5          negative  @VirginAmerica seriously would pay $30 a fligh...       0\n",
       "6          positive  @VirginAmerica yes, nearly every time I fly VX...       1"
      ]
     },
     "execution_count": 11,
     "metadata": {},
     "output_type": "execute_result"
    }
   ],
   "source": [
    "df.head()"
   ]
  },
  {
   "cell_type": "code",
   "execution_count": 12,
   "metadata": {
    "executionInfo": {
     "elapsed": 231,
     "status": "ok",
     "timestamp": 1686540851153,
     "user": {
      "displayName": "Aulia Khilmi Rizgi",
      "userId": "16465661636667067588"
     },
     "user_tz": -540
    },
    "id": "W3-h1w-Tj1v-"
   },
   "outputs": [],
   "source": [
    "df_train, df_test = train_test_split(df, random_state=42)"
   ]
  },
  {
   "cell_type": "code",
   "execution_count": 13,
   "metadata": {
    "executionInfo": {
     "elapsed": 938,
     "status": "ok",
     "timestamp": 1686540887508,
     "user": {
      "displayName": "Aulia Khilmi Rizgi",
      "userId": "16465661636667067588"
     },
     "user_tz": -540
    },
    "id": "nyd7nOldj1v-"
   },
   "outputs": [],
   "source": [
    "vectorizer = TfidfVectorizer(max_features=2000)\n",
    "X_train = vectorizer.fit_transform(df_train[\"text\"])\n",
    "X_test = vectorizer.transform(df_test[\"text\"])"
   ]
  },
  {
   "cell_type": "code",
   "execution_count": 14,
   "metadata": {
    "executionInfo": {
     "elapsed": 218,
     "status": "ok",
     "timestamp": 1686540889225,
     "user": {
      "displayName": "Aulia Khilmi Rizgi",
      "userId": "16465661636667067588"
     },
     "user_tz": -540
    },
    "id": "Ups804WWj1v-"
   },
   "outputs": [],
   "source": [
    "# data must not be sparse matrix before passing into tensorflow\n",
    "X_train = X_train.toarray()\n",
    "X_test = X_test.toarray()"
   ]
  },
  {
   "cell_type": "code",
   "execution_count": 15,
   "metadata": {
    "executionInfo": {
     "elapsed": 308,
     "status": "ok",
     "timestamp": 1686540891216,
     "user": {
      "displayName": "Aulia Khilmi Rizgi",
      "userId": "16465661636667067588"
     },
     "user_tz": -540
    },
    "id": "Q5P7SHhkj1v-"
   },
   "outputs": [],
   "source": [
    "Y_train = df_train[\"target\"]\n",
    "Y_test = df_test[\"target\"]"
   ]
  },
  {
   "cell_type": "code",
   "execution_count": 16,
   "metadata": {
    "executionInfo": {
     "elapsed": 237,
     "status": "ok",
     "timestamp": 1686540892596,
     "user": {
      "displayName": "Aulia Khilmi Rizgi",
      "userId": "16465661636667067588"
     },
     "user_tz": -540
    },
    "id": "6QOGm5Rtj1v_"
   },
   "outputs": [],
   "source": [
    "# input dimension\n",
    "# X_train = X_train.reshape(X_train.shape[1], X_train.shape[0])\n",
    "D = X_train.shape[1]"
   ]
  },
  {
   "cell_type": "code",
   "execution_count": 17,
   "metadata": {
    "colab": {
     "base_uri": "https://localhost:8080/"
    },
    "executionInfo": {
     "elapsed": 4,
     "status": "ok",
     "timestamp": 1686540893767,
     "user": {
      "displayName": "Aulia Khilmi Rizgi",
      "userId": "16465661636667067588"
     },
     "user_tz": -540
    },
    "id": "o59MfvcloQ8g",
    "outputId": "11b73436-dda6-4990-97a3-9049ca935ab3"
   },
   "outputs": [
    {
     "data": {
      "text/plain": [
       "(8655, 2000)"
      ]
     },
     "execution_count": 17,
     "metadata": {},
     "output_type": "execute_result"
    }
   ],
   "source": [
    "X_train.shape"
   ]
  },
  {
   "cell_type": "code",
   "execution_count": 18,
   "metadata": {
    "colab": {
     "base_uri": "https://localhost:8080/"
    },
    "executionInfo": {
     "elapsed": 3,
     "status": "ok",
     "timestamp": 1686540895361,
     "user": {
      "displayName": "Aulia Khilmi Rizgi",
      "userId": "16465661636667067588"
     },
     "user_tz": -540
    },
    "id": "__1U5SNIoy8j",
    "outputId": "cc8af31a-82eb-4628-c67a-f8c8153bc57e"
   },
   "outputs": [
    {
     "data": {
      "text/plain": [
       "(8655,)"
      ]
     },
     "execution_count": 18,
     "metadata": {},
     "output_type": "execute_result"
    }
   ],
   "source": [
    "Y_train.shape"
   ]
  },
  {
   "cell_type": "code",
   "execution_count": 19,
   "metadata": {
    "executionInfo": {
     "elapsed": 240,
     "status": "ok",
     "timestamp": 1686540898607,
     "user": {
      "displayName": "Aulia Khilmi Rizgi",
      "userId": "16465661636667067588"
     },
     "user_tz": -540
    },
    "id": "Yx-OSUSXj1v_"
   },
   "outputs": [],
   "source": [
    "# build model\n",
    "i = Input(shape=(D,))\n",
    "x = Dense(1)(i) # sigmoid included in loss\n",
    "\n",
    "model =Model(i, x)"
   ]
  },
  {
   "cell_type": "code",
   "execution_count": 20,
   "metadata": {
    "colab": {
     "base_uri": "https://localhost:8080/"
    },
    "executionInfo": {
     "elapsed": 217,
     "status": "ok",
     "timestamp": 1686540900589,
     "user": {
      "displayName": "Aulia Khilmi Rizgi",
      "userId": "16465661636667067588"
     },
     "user_tz": -540
    },
    "id": "ZFlWmA8jj1v_",
    "outputId": "adf2604f-2d7e-4a5d-a847-0baebde2e103"
   },
   "outputs": [
    {
     "name": "stdout",
     "output_type": "stream",
     "text": [
      "Model: \"model\"\n",
      "_________________________________________________________________\n",
      " Layer (type)                Output Shape              Param #   \n",
      "=================================================================\n",
      " input_1 (InputLayer)        [(None, 2000)]            0         \n",
      "                                                                 \n",
      " dense (Dense)               (None, 1)                 2001      \n",
      "                                                                 \n",
      "=================================================================\n",
      "Total params: 2,001\n",
      "Trainable params: 2,001\n",
      "Non-trainable params: 0\n",
      "_________________________________________________________________\n"
     ]
    }
   ],
   "source": [
    "model.summary()"
   ]
  },
  {
   "cell_type": "code",
   "execution_count": 21,
   "metadata": {
    "executionInfo": {
     "elapsed": 254,
     "status": "ok",
     "timestamp": 1686540903884,
     "user": {
      "displayName": "Aulia Khilmi Rizgi",
      "userId": "16465661636667067588"
     },
     "user_tz": -540
    },
    "id": "gSdanaZij1v_"
   },
   "outputs": [],
   "source": [
    "model.compile(\n",
    "    loss=BinaryCrossentropy(from_logits=True),\n",
    "    optimizer=Adam(learning_rate=0.01),\n",
    "    metrics=[\"accuracy\"]\n",
    ")"
   ]
  },
  {
   "cell_type": "code",
   "execution_count": 22,
   "metadata": {
    "colab": {
     "base_uri": "https://localhost:8080/"
    },
    "executionInfo": {
     "elapsed": 222,
     "status": "ok",
     "timestamp": 1686540949656,
     "user": {
      "displayName": "Aulia Khilmi Rizgi",
      "userId": "16465661636667067588"
     },
     "user_tz": -540
    },
    "id": "RV5GIE0BmAhv",
    "outputId": "2a9330e0-c40f-4336-e9a8-7f7b1644e223"
   },
   "outputs": [
    {
     "data": {
      "text/plain": [
       "((8655, 2000), (8655,), (2886, 2000), (2886,))"
      ]
     },
     "execution_count": 22,
     "metadata": {},
     "output_type": "execute_result"
    }
   ],
   "source": [
    "(X_train.shape, Y_train.shape, X_test.shape, Y_test.shape)"
   ]
  },
  {
   "cell_type": "code",
   "execution_count": 23,
   "metadata": {
    "colab": {
     "base_uri": "https://localhost:8080/"
    },
    "executionInfo": {
     "elapsed": 9267,
     "status": "ok",
     "timestamp": 1686540970828,
     "user": {
      "displayName": "Aulia Khilmi Rizgi",
      "userId": "16465661636667067588"
     },
     "user_tz": -540
    },
    "id": "M90FYMSij1v_",
    "outputId": "61172d8f-4f93-4871-e0fd-fb7d960b4479"
   },
   "outputs": [
    {
     "name": "stdout",
     "output_type": "stream",
     "text": [
      "Epoch 1/40\n",
      "34/34 [==============================] - 3s 29ms/step - loss: 0.5565 - accuracy: 0.7920 - val_loss: 0.4486 - val_accuracy: 0.8049\n",
      "Epoch 2/40\n",
      "34/34 [==============================] - 0s 12ms/step - loss: 0.4242 - accuracy: 0.7920 - val_loss: 0.3855 - val_accuracy: 0.8049\n",
      "Epoch 3/40\n",
      "34/34 [==============================] - 1s 43ms/step - loss: 0.3754 - accuracy: 0.7956 - val_loss: 0.3509 - val_accuracy: 0.8174\n",
      "Epoch 4/40\n",
      "34/34 [==============================] - 0s 14ms/step - loss: 0.3405 - accuracy: 0.8054 - val_loss: 0.3247 - val_accuracy: 0.8288\n",
      "Epoch 5/40\n",
      "34/34 [==============================] - 1s 22ms/step - loss: 0.3125 - accuracy: 0.8241 - val_loss: 0.3038 - val_accuracy: 0.8406\n",
      "Epoch 6/40\n",
      "34/34 [==============================] - 2s 45ms/step - loss: 0.2898 - accuracy: 0.8417 - val_loss: 0.2873 - val_accuracy: 0.8524\n",
      "Epoch 7/40\n",
      "34/34 [==============================] - 1s 42ms/step - loss: 0.2712 - accuracy: 0.8547 - val_loss: 0.2737 - val_accuracy: 0.8645\n",
      "Epoch 8/40\n",
      "34/34 [==============================] - 1s 21ms/step - loss: 0.2555 - accuracy: 0.8661 - val_loss: 0.2622 - val_accuracy: 0.8742\n",
      "Epoch 9/40\n",
      "34/34 [==============================] - 1s 19ms/step - loss: 0.2422 - accuracy: 0.8760 - val_loss: 0.2529 - val_accuracy: 0.8818\n",
      "Epoch 10/40\n",
      "34/34 [==============================] - 1s 44ms/step - loss: 0.2307 - accuracy: 0.8860 - val_loss: 0.2449 - val_accuracy: 0.8891\n",
      "Epoch 11/40\n",
      "34/34 [==============================] - 1s 21ms/step - loss: 0.2207 - accuracy: 0.8921 - val_loss: 0.2381 - val_accuracy: 0.8967\n",
      "Epoch 12/40\n",
      "34/34 [==============================] - 0s 9ms/step - loss: 0.2119 - accuracy: 0.8991 - val_loss: 0.2324 - val_accuracy: 0.9012\n",
      "Epoch 13/40\n",
      "34/34 [==============================] - 2s 74ms/step - loss: 0.2040 - accuracy: 0.9027 - val_loss: 0.2273 - val_accuracy: 0.9030\n",
      "Epoch 14/40\n",
      "34/34 [==============================] - 2s 55ms/step - loss: 0.1970 - accuracy: 0.9078 - val_loss: 0.2230 - val_accuracy: 0.9068\n",
      "Epoch 15/40\n",
      "34/34 [==============================] - 1s 22ms/step - loss: 0.1907 - accuracy: 0.9124 - val_loss: 0.2191 - val_accuracy: 0.9075\n",
      "Epoch 16/40\n",
      "34/34 [==============================] - 0s 13ms/step - loss: 0.1848 - accuracy: 0.9148 - val_loss: 0.2157 - val_accuracy: 0.9096\n",
      "Epoch 17/40\n",
      "34/34 [==============================] - 2s 47ms/step - loss: 0.1796 - accuracy: 0.9190 - val_loss: 0.2128 - val_accuracy: 0.9113\n",
      "Epoch 18/40\n",
      "34/34 [==============================] - 1s 37ms/step - loss: 0.1748 - accuracy: 0.9222 - val_loss: 0.2102 - val_accuracy: 0.9127\n",
      "Epoch 19/40\n",
      "34/34 [==============================] - 1s 24ms/step - loss: 0.1703 - accuracy: 0.9248 - val_loss: 0.2078 - val_accuracy: 0.9123\n",
      "Epoch 20/40\n",
      "34/34 [==============================] - 1s 37ms/step - loss: 0.1662 - accuracy: 0.9269 - val_loss: 0.2057 - val_accuracy: 0.9151\n",
      "Epoch 21/40\n",
      "34/34 [==============================] - 1s 26ms/step - loss: 0.1623 - accuracy: 0.9284 - val_loss: 0.2037 - val_accuracy: 0.9158\n",
      "Epoch 22/40\n",
      "34/34 [==============================] - 2s 57ms/step - loss: 0.1587 - accuracy: 0.9307 - val_loss: 0.2021 - val_accuracy: 0.9155\n",
      "Epoch 23/40\n",
      "34/34 [==============================] - 2s 55ms/step - loss: 0.1553 - accuracy: 0.9328 - val_loss: 0.2007 - val_accuracy: 0.9175\n",
      "Epoch 24/40\n",
      "34/34 [==============================] - 0s 11ms/step - loss: 0.1522 - accuracy: 0.9362 - val_loss: 0.1994 - val_accuracy: 0.9179\n",
      "Epoch 25/40\n",
      "34/34 [==============================] - 1s 35ms/step - loss: 0.1492 - accuracy: 0.9356 - val_loss: 0.1981 - val_accuracy: 0.9182\n",
      "Epoch 26/40\n",
      "34/34 [==============================] - 1s 27ms/step - loss: 0.1464 - accuracy: 0.9390 - val_loss: 0.1971 - val_accuracy: 0.9189\n",
      "Epoch 27/40\n",
      "34/34 [==============================] - 1s 27ms/step - loss: 0.1437 - accuracy: 0.9406 - val_loss: 0.1962 - val_accuracy: 0.9210\n",
      "Epoch 28/40\n",
      "34/34 [==============================] - 1s 22ms/step - loss: 0.1411 - accuracy: 0.9407 - val_loss: 0.1954 - val_accuracy: 0.9210\n",
      "Epoch 29/40\n",
      "34/34 [==============================] - 1s 26ms/step - loss: 0.1388 - accuracy: 0.9425 - val_loss: 0.1947 - val_accuracy: 0.9207\n",
      "Epoch 30/40\n",
      "34/34 [==============================] - 1s 42ms/step - loss: 0.1365 - accuracy: 0.9427 - val_loss: 0.1940 - val_accuracy: 0.9203\n",
      "Epoch 31/40\n",
      "34/34 [==============================] - 1s 16ms/step - loss: 0.1343 - accuracy: 0.9436 - val_loss: 0.1934 - val_accuracy: 0.9210\n",
      "Epoch 32/40\n",
      "34/34 [==============================] - 1s 26ms/step - loss: 0.1322 - accuracy: 0.9444 - val_loss: 0.1930 - val_accuracy: 0.9213\n",
      "Epoch 33/40\n",
      "34/34 [==============================] - 1s 36ms/step - loss: 0.1302 - accuracy: 0.9457 - val_loss: 0.1925 - val_accuracy: 0.9217\n",
      "Epoch 34/40\n",
      "34/34 [==============================] - 2s 69ms/step - loss: 0.1283 - accuracy: 0.9465 - val_loss: 0.1921 - val_accuracy: 0.9210\n",
      "Epoch 35/40\n",
      "34/34 [==============================] - 1s 25ms/step - loss: 0.1265 - accuracy: 0.9474 - val_loss: 0.1919 - val_accuracy: 0.9210\n",
      "Epoch 36/40\n",
      "34/34 [==============================] - 1s 16ms/step - loss: 0.1247 - accuracy: 0.9485 - val_loss: 0.1916 - val_accuracy: 0.9203\n",
      "Epoch 37/40\n",
      "34/34 [==============================] - 1s 21ms/step - loss: 0.1230 - accuracy: 0.9495 - val_loss: 0.1915 - val_accuracy: 0.9207\n",
      "Epoch 38/40\n",
      "34/34 [==============================] - 1s 17ms/step - loss: 0.1214 - accuracy: 0.9504 - val_loss: 0.1913 - val_accuracy: 0.9210\n",
      "Epoch 39/40\n",
      "34/34 [==============================] - 1s 34ms/step - loss: 0.1199 - accuracy: 0.9509 - val_loss: 0.1910 - val_accuracy: 0.9213\n",
      "Epoch 40/40\n",
      "34/34 [==============================] - 1s 39ms/step - loss: 0.1184 - accuracy: 0.9531 - val_loss: 0.1911 - val_accuracy: 0.9207\n"
     ]
    }
   ],
   "source": [
    "r = model.fit(\n",
    "    x=X_train, y=Y_train,\n",
    "    validation_data=(X_test, Y_test),\n",
    "    epochs=40,\n",
    "    batch_size=256,\n",
    ")"
   ]
  },
  {
   "cell_type": "code",
   "execution_count": 24,
   "metadata": {
    "colab": {
     "base_uri": "https://localhost:8080/",
     "height": 430
    },
    "executionInfo": {
     "elapsed": 649,
     "status": "ok",
     "timestamp": 1686542764825,
     "user": {
      "displayName": "Aulia Khilmi Rizgi",
      "userId": "16465661636667067588"
     },
     "user_tz": -540
    },
    "id": "U6bYh8sGxhpb",
    "outputId": "80ec91c0-82d8-449b-e3fe-a1e8ffd79c81"
   },
   "outputs": [
    {
     "data": {
      "image/png": "[encoded data removed]",
      "text/plain": [
       "<Figure size 640x480 with 1 Axes>"
      ]
     },
     "metadata": {},
     "output_type": "display_data"
    }
   ],
   "source": [
    "# Plot loss per iteration\n",
    "plt.plot(r.history[\"loss\"], label=\"train loss\")\n",
    "plt.plot(r.history[\"val_loss\"], label=\"val loss\")\n",
    "plt.legend();"
   ]
  },
  {
   "cell_type": "code",
   "execution_count": 25,
   "metadata": {
    "colab": {
     "base_uri": "https://localhost:8080/",
     "height": 433
    },
    "executionInfo": {
     "elapsed": 1597,
     "status": "ok",
     "timestamp": 1686542872505,
     "user": {
      "displayName": "Aulia Khilmi Rizgi",
      "userId": "16465661636667067588"
     },
     "user_tz": -540
    },
    "id": "x0iqyblFyJCz",
    "outputId": "e99179f1-4915-425b-e22f-b985c1392706"
   },
   "outputs": [
    {
     "data": {
      "image/png": "[encoded data removed]",
      "text/plain": [
       "<Figure size 640x480 with 1 Axes>"
      ]
     },
     "metadata": {},
     "output_type": "display_data"
    }
   ],
   "source": [
    "# Plot accuracy per iteration\n",
    "plt.plot(r.history[\"accuracy\"], label=\"train acc\")\n",
    "plt.plot(r.history[\"val_accuracy\"], label=\"val acc\")\n",
    "plt.legend();"
   ]
  },
  {
   "cell_type": "code",
   "execution_count": 26,
   "metadata": {
    "colab": {
     "base_uri": "https://localhost:8080/"
    },
    "executionInfo": {
     "elapsed": 3,
     "status": "ok",
     "timestamp": 1686542914661,
     "user": {
      "displayName": "Aulia Khilmi Rizgi",
      "userId": "16465661636667067588"
     },
     "user_tz": -540
    },
    "id": "wB2YU0kXyjVd",
    "outputId": "5fb9d019-f74c-401a-ff9d-f3550a613bda"
   },
   "outputs": [
    {
     "data": {
      "text/plain": [
       "4"
      ]
     },
     "execution_count": 26,
     "metadata": {},
     "output_type": "execute_result"
    }
   ],
   "source": [
    "len(r.history)"
   ]
  },
  {
   "cell_type": "code",
   "execution_count": 27,
   "metadata": {
    "colab": {
     "base_uri": "https://localhost:8080/"
    },
    "executionInfo": {
     "elapsed": 2179,
     "status": "ok",
     "timestamp": 1686542995775,
     "user": {
      "displayName": "Aulia Khilmi Rizgi",
      "userId": "16465661636667067588"
     },
     "user_tz": -540
    },
    "id": "BW0zevpRyw0Y",
    "outputId": "6e169b12-e484-4064-e7bc-e466d40ed975"
   },
   "outputs": [
    {
     "name": "stdout",
     "output_type": "stream",
     "text": [
      "271/271 [==============================] - 6s 19ms/step\n",
      "91/91 [==============================] - 1s 10ms/step\n"
     ]
    }
   ],
   "source": [
    "P_train = ((model.predict(X_train) > 0) * 1.0).flatten()\n",
    "P_test = ((model.predict(X_test) > 0) * 1.0).flatten()"
   ]
  },
  {
   "cell_type": "code",
   "execution_count": 28,
   "metadata": {
    "colab": {
     "base_uri": "https://localhost:8080/"
    },
    "executionInfo": {
     "elapsed": 9,
     "status": "ok",
     "timestamp": 1686543029005,
     "user": {
      "displayName": "Aulia Khilmi Rizgi",
      "userId": "16465661636667067588"
     },
     "user_tz": -540
    },
    "id": "g4iH11cMy_24",
    "outputId": "9479003e-d614-4b2c-c5aa-8fcc9ec6d7e1"
   },
   "outputs": [
    {
     "data": {
      "text/plain": [
       "array([[0.98920496, 0.01079504],\n",
       "       [0.12555556, 0.87444444]])"
      ]
     },
     "execution_count": 28,
     "metadata": {},
     "output_type": "execute_result"
    }
   ],
   "source": [
    "cm = confusion_matrix(Y_train, P_train, normalize=\"true\")\n",
    "cm"
   ]
  },
  {
   "cell_type": "code",
   "execution_count": 29,
   "metadata": {
    "colab": {
     "base_uri": "https://localhost:8080/",
     "height": 449
    },
    "executionInfo": {
     "elapsed": 668,
     "status": "ok",
     "timestamp": 1686543100922,
     "user": {
      "displayName": "Aulia Khilmi Rizgi",
      "userId": "16465661636667067588"
     },
     "user_tz": -540
    },
    "id": "hMtX0nGkzP3U",
    "outputId": "b6138d82-214b-4c6f-a857-b6ff2ba4081a"
   },
   "outputs": [
    {
     "data": {
      "image/png": "[encoded data removed]",
      "text/plain": [
       "<Figure size 640x480 with 2 Axes>"
      ]
     },
     "metadata": {},
     "output_type": "display_data"
    }
   ],
   "source": [
    "def plot_cm(cm):\n",
    "    classes = [\"negative\", \"positive\"]\n",
    "    df_cm = pd.DataFrame(cm, index=classes, columns=classes)\n",
    "    ax = sn.heatmap(df_cm, annot=True, fmt=\"g\")\n",
    "    ax.set_xlabel(\"Predicted\")\n",
    "    ax.set_ylabel(\"Target\")\n",
    "\n",
    "plot_cm(cm)"
   ]
  },
  {
   "cell_type": "code",
   "execution_count": 30,
   "metadata": {
    "colab": {
     "base_uri": "https://localhost:8080/",
     "height": 449
    },
    "executionInfo": {
     "elapsed": 731,
     "status": "ok",
     "timestamp": 1686548249516,
     "user": {
      "displayName": "Aulia Khilmi Rizgi",
      "userId": "16465661636667067588"
     },
     "user_tz": -540
    },
    "id": "RtPxwU7cB0vF",
    "outputId": "98f3dfe9-b987-49ce-bfcc-36dd9b4e8fe1"
   },
   "outputs": [
    {
     "data": {
      "image/png": "[encoded data removed]",
      "text/plain": [
       "<Figure size 640x480 with 2 Axes>"
      ]
     },
     "metadata": {},
     "output_type": "display_data"
    }
   ],
   "source": [
    "cm_test = confusion_matrix(Y_test, P_test, normalize=\"true\")\n",
    "plot_cm(cm_test)"
   ]
  },
  {
   "cell_type": "code",
   "execution_count": 31,
   "metadata": {
    "colab": {
     "base_uri": "https://localhost:8080/"
    },
    "executionInfo": {
     "elapsed": 2794,
     "status": "ok",
     "timestamp": 1686548370826,
     "user": {
      "displayName": "Aulia Khilmi Rizgi",
      "userId": "16465661636667067588"
     },
     "user_tz": -540
    },
    "id": "xO96HF8_HFrF",
    "outputId": "f52093e2-01a1-4a47-82a9-d47ac77e8ec4"
   },
   "outputs": [
    {
     "name": "stdout",
     "output_type": "stream",
     "text": [
      "271/271 [==============================] - 1s 2ms/step\n",
      "91/91 [==============================] - 1s 9ms/step\n",
      "Train AUC: 0.9923842288678176\n",
      "Test AUC: 0.9565569113865591\n"
     ]
    }
   ],
   "source": [
    "Pr_train = model.predict(X_train)\n",
    "Pr_test = model.predict(X_test)\n",
    "print(\"Train AUC:\", roc_auc_score(Y_train, Pr_train))\n",
    "print(\"Test AUC:\", roc_auc_score(Y_test, Pr_test))"
   ]
  },
  {
   "cell_type": "code",
   "execution_count": 32,
   "metadata": {
    "colab": {
     "base_uri": "https://localhost:8080/"
    },
    "executionInfo": {
     "elapsed": 238,
     "status": "ok",
     "timestamp": 1686548416320,
     "user": {
      "displayName": "Aulia Khilmi Rizgi",
      "userId": "16465661636667067588"
     },
     "user_tz": -540
    },
    "id": "dpqzLqoUHeON",
    "outputId": "2da0f6b9-26cb-4392-d0ae-05a893e19d65"
   },
   "outputs": [
    {
     "name": "stdout",
     "output_type": "stream",
     "text": [
      "Train F1: 0.9129930394431555\n",
      "Test F1: 0.7988505747126438\n"
     ]
    }
   ],
   "source": [
    "print(\"Train F1:\", f1_score(Y_train, P_train))\n",
    "print(\"Test F1:\", f1_score(Y_test, P_test))"
   ]
  },
  {
   "cell_type": "code",
   "execution_count": 33,
   "metadata": {
    "colab": {
     "base_uri": "https://localhost:8080/"
    },
    "executionInfo": {
     "elapsed": 3,
     "status": "ok",
     "timestamp": 1686548428806,
     "user": {
      "displayName": "Aulia Khilmi Rizgi",
      "userId": "16465661636667067588"
     },
     "user_tz": -540
    },
    "id": "5zFZyonbHp5j",
    "outputId": "11b86d85-9658-4f7d-caa2-9aab092fadd2"
   },
   "outputs": [
    {
     "data": {
      "text/plain": [
       "[<keras.engine.input_layer.InputLayer at 0x13c04929060>,\n",
       " <keras.layers.core.dense.Dense at 0x13c04928ca0>]"
      ]
     },
     "execution_count": 33,
     "metadata": {},
     "output_type": "execute_result"
    }
   ],
   "source": [
    "model.layers"
   ]
  },
  {
   "cell_type": "code",
   "execution_count": 34,
   "metadata": {
    "colab": {
     "base_uri": "https://localhost:8080/"
    },
    "executionInfo": {
     "elapsed": 240,
     "status": "ok",
     "timestamp": 1686548448123,
     "user": {
      "displayName": "Aulia Khilmi Rizgi",
      "userId": "16465661636667067588"
     },
     "user_tz": -540
    },
    "id": "3wt6qaKUHr30",
    "outputId": "c9bb363c-2c68-44b0-f895-40f6bd1fd609"
   },
   "outputs": [
    {
     "data": {
      "text/plain": [
       "[array([[-2.9118724],\n",
       "        [ 2.4278135],\n",
       "        [-1.3993621],\n",
       "        ...,\n",
       "        [ 1.6116873],\n",
       "        [ 1.1125135],\n",
       "        [-2.420552 ]], dtype=float32),\n",
       " array([-0.26378462], dtype=float32)]"
      ]
     },
     "execution_count": 34,
     "metadata": {},
     "output_type": "execute_result"
    }
   ],
   "source": [
    "model.layers[1].get_weights()"
   ]
  },
  {
   "cell_type": "code",
   "execution_count": 35,
   "metadata": {
    "executionInfo": {
     "elapsed": 249,
     "status": "ok",
     "timestamp": 1686548500926,
     "user": {
      "displayName": "Aulia Khilmi Rizgi",
      "userId": "16465661636667067588"
     },
     "user_tz": -540
    },
    "id": "yM4F6rN9H2pk"
   },
   "outputs": [],
   "source": [
    "w = model.layers[1].get_weights()[0]"
   ]
  },
  {
   "cell_type": "code",
   "execution_count": 36,
   "metadata": {
    "colab": {
     "base_uri": "https://localhost:8080/"
    },
    "executionInfo": {
     "elapsed": 390,
     "status": "ok",
     "timestamp": 1686548526729,
     "user": {
      "displayName": "Aulia Khilmi Rizgi",
      "userId": "16465661636667067588"
     },
     "user_tz": -540
    },
    "id": "8Noe6KOqH-d-",
    "outputId": "577700dd-96fa-4852-9ac7-bfe4130b10b2"
   },
   "outputs": [
    {
     "data": {
      "text/plain": [
       "{'jetblue': 973,\n",
       " 'thanks': 1726,\n",
       " 'for': 753,\n",
       " 'having': 855,\n",
       " 'us': 1859,\n",
       " 'hang': 838,\n",
       " 'out': 1262,\n",
       " 'at': 197,\n",
       " 'tampa': 1708,\n",
       " 'airport': 122,\n",
       " 'forever': 756,\n",
       " 'today': 1767,\n",
       " 'it': 964,\n",
       " 'really': 1420,\n",
       " 'been': 243,\n",
       " 'an': 147,\n",
       " 'awesome': 217,\n",
       " 'experience': 654,\n",
       " 'americanair': 143,\n",
       " 'was': 1898,\n",
       " 'told': 1770,\n",
       " 'you': 1993,\n",
       " 'could': 452,\n",
       " 'only': 1245,\n",
       " 'refund': 1434,\n",
       " 'me': 1107,\n",
       " 'the': 1730,\n",
       " 'cost': 448,\n",
       " 'of': 1224,\n",
       " 'my': 1179,\n",
       " 'original': 1254,\n",
       " 'return': 1476,\n",
       " 'flight': 726,\n",
       " 'note': 1211,\n",
       " 'had': 828,\n",
       " 'booked': 273,\n",
       " 'more': 1164,\n",
       " 'expensive': 653,\n",
       " 'everyone': 635,\n",
       " 'else': 602,\n",
       " 'outstanding': 1267,\n",
       " 'united': 1842,\n",
       " 'denver': 516,\n",
       " 'to': 1766,\n",
       " 'austin': 207,\n",
       " 'still': 1660,\n",
       " 'on': 1239,\n",
       " 'ground': 820,\n",
       " 'issue': 961,\n",
       " 'is': 959,\n",
       " 'lack': 999,\n",
       " 'announcement': 151,\n",
       " 'made': 1086,\n",
       " 'so': 1606,\n",
       " 'late': 1010,\n",
       " 'when': 1929,\n",
       " 'gate': 793,\n",
       " 'agent': 113,\n",
       " 'there': 1734,\n",
       " 'over': 1268,\n",
       " 'hour': 897,\n",
       " 'southwestair': 1626,\n",
       " 'hold': 880,\n",
       " '30': 36,\n",
       " 'min': 1141,\n",
       " 'trying': 1808,\n",
       " 'rebook': 1423,\n",
       " 'cancelled': 314,\n",
       " 'flightled': 734,\n",
       " 'help': 867,\n",
       " 'from': 773,\n",
       " 'phl': 1309,\n",
       " 'dal': 485,\n",
       " 'rebooked': 1424,\n",
       " 'tomorrow': 1771,\n",
       " 'now': 1217,\n",
       " 'that': 1728,\n",
       " 'again': 111,\n",
       " 'usairways': 1861,\n",
       " 'phone': 1312,\n",
       " 'called': 308,\n",
       " 'number': 1218,\n",
       " 'and': 148,\n",
       " 'she': 1560,\n",
       " 'picked': 1317,\n",
       " 'up': 1850,\n",
       " 'almost': 131,\n",
       " 'immediately': 926,\n",
       " 'just': 980,\n",
       " 'sent': 1545,\n",
       " 'another': 154,\n",
       " 'drink': 579,\n",
       " 'think': 1739,\n",
       " 'have': 853,\n",
       " 'free': 765,\n",
       " 'drinks': 580,\n",
       " 'anyone': 161,\n",
       " 'guys': 826,\n",
       " 'off': 1225,\n",
       " 'if': 921,\n",
       " 'every': 634,\n",
       " 'employees': 609,\n",
       " 'would': 1971,\n",
       " 'making': 1093,\n",
       " 'effort': 600,\n",
       " 'credit': 467,\n",
       " 'where': 1930,\n",
       " 'due': 586,\n",
       " 'delayed': 507,\n",
       " 'hours': 898,\n",
       " 'instead': 951,\n",
       " 've': 1873,\n",
       " '55': 58,\n",
       " 'mins': 1145,\n",
       " 'about': 78,\n",
       " 'flighted': 730,\n",
       " 'international': 953,\n",
       " 'am': 139,\n",
       " 'country': 458,\n",
       " 'can': 313,\n",
       " 'leave': 1016,\n",
       " 'call': 306,\n",
       " 'back': 221,\n",
       " 'got': 816,\n",
       " 'worked': 1959,\n",
       " 'trip': 1800,\n",
       " 'pay': 1294,\n",
       " 'extra': 664,\n",
       " 'though': 1746,\n",
       " 'not': 1209,\n",
       " 'easy': 597,\n",
       " 'poor': 1349,\n",
       " 'did': 537,\n",
       " 'report': 1452,\n",
       " 'updated': 1852,\n",
       " 'info': 945,\n",
       " 'don': 571,\n",
       " 'know': 993,\n",
       " 'how': 901,\n",
       " 'reach': 1414,\n",
       " 'them': 1732,\n",
       " 'without': 1949,\n",
       " 'super': 1681,\n",
       " 'long': 1058,\n",
       " 'wait': 1886,\n",
       " 'your': 1995,\n",
       " 'main': 1088,\n",
       " 'use': 1863,\n",
       " 'voucher': 1884,\n",
       " 'book': 272,\n",
       " 'last': 1009,\n",
       " 'lines': 1041,\n",
       " 'are': 175,\n",
       " 'busy': 297,\n",
       " 'may': 1103,\n",
       " 'go': 808,\n",
       " 'wife': 1939,\n",
       " 'flt': 742,\n",
       " 'via': 1876,\n",
       " 'dfw': 534,\n",
       " 'bought': 279,\n",
       " 'swa': 1691,\n",
       " 'get': 798,\n",
       " 'her': 871,\n",
       " 'home': 883,\n",
       " 'dm': 561,\n",
       " 'plz': 1342,\n",
       " 'course': 460,\n",
       " 'but': 298,\n",
       " 'they': 1736,\n",
       " 'were': 1921,\n",
       " 'as': 185,\n",
       " 'why': 1937,\n",
       " 'getting': 800,\n",
       " 'put': 1397,\n",
       " 'by': 302,\n",
       " 'people': 1300,\n",
       " 'calling': 309,\n",
       " 'platinum': 1333,\n",
       " 'desk': 528,\n",
       " 'thankfully': 1725,\n",
       " 'lounge': 1070,\n",
       " 'next': 1196,\n",
       " 'door': 574,\n",
       " 'impressed': 929,\n",
       " 'thank': 1724,\n",
       " 'with': 1947,\n",
       " 'passbook': 1284,\n",
       " 'all': 126,\n",
       " 'works': 1962,\n",
       " 'much': 1175,\n",
       " 'better': 251,\n",
       " 'happening': 843,\n",
       " 'delta': 513,\n",
       " 'took': 1774,\n",
       " 'care': 322,\n",
       " 'purchase': 1394,\n",
       " 'ticket': 1754,\n",
       " 'check': 359,\n",
       " 'in': 932,\n",
       " 'bag': 225,\n",
       " 'however': 902,\n",
       " 'being': 246,\n",
       " 'charged': 352,\n",
       " '25': 29,\n",
       " 'dollars': 569,\n",
       " 'domestic': 570,\n",
       " 'heard': 862,\n",
       " 'charge': 351,\n",
       " '1st': 19,\n",
       " 'seats': 1530,\n",
       " 'no': 1202,\n",
       " 'need': 1188,\n",
       " 'be': 238,\n",
       " 'loyal': 1078,\n",
       " 'jb': 971,\n",
       " 'customer': 478,\n",
       " 'anymore': 160,\n",
       " 'already': 134,\n",
       " 'spoke': 1637,\n",
       " 'line': 1040,\n",
       " 'support': 1683,\n",
       " 'wasn': 1899,\n",
       " 'delay': 506,\n",
       " 'engine': 613,\n",
       " 'needed': 1189,\n",
       " 'makes': 1092,\n",
       " 'person': 1305,\n",
       " 'stand': 1643,\n",
       " 'pilot': 1319,\n",
       " 'or': 1251,\n",
       " 'paperwork': 1279,\n",
       " 'fix': 720,\n",
       " 'problem': 1376,\n",
       " 'fixed': 721,\n",
       " 'ago': 115,\n",
       " 'set': 1552,\n",
       " 'days': 493,\n",
       " 'hoping': 890,\n",
       " 'won': 1951,\n",
       " 'filled': 707,\n",
       " 'because': 241,\n",
       " 'link': 1042,\n",
       " 'doesn': 565,\n",
       " 'work': 1958,\n",
       " 'amp': 146,\n",
       " 'asked': 189,\n",
       " 'many': 1098,\n",
       " 'questions': 1402,\n",
       " 'might': 1135,\n",
       " 'should': 1566,\n",
       " 'seattle': 1531,\n",
       " 'strand': 1667,\n",
       " 'someone': 1614,\n",
       " 'city': 372,\n",
       " 'luggage': 1083,\n",
       " 'aa': 74,\n",
       " 'want': 1894,\n",
       " 'earn': 593,\n",
       " 'business': 296,\n",
       " 'guess': 823,\n",
       " 'needs': 1190,\n",
       " 'their': 1731,\n",
       " 'shit': 1561,\n",
       " 'together': 1769,\n",
       " 'counter': 456,\n",
       " 'catch': 330,\n",
       " 'flights': 737,\n",
       " 'http': 905,\n",
       " 'co': 388,\n",
       " 'passengers': 1287,\n",
       " 'sitting': 1586,\n",
       " 'plane': 1326,\n",
       " 'two': 1820,\n",
       " 'cmh': 386,\n",
       " 'other': 1258,\n",
       " 'left': 1019,\n",
       " 'usairwaysfail': 1862,\n",
       " 'hrs': 904,\n",
       " 'months': 1163,\n",
       " 'supposed': 1685,\n",
       " 'mom': 1157,\n",
       " 'whose': 1936,\n",
       " 'very': 1875,\n",
       " 'upset': 1857,\n",
       " 'crews': 469,\n",
       " 'surprised': 1688,\n",
       " 'arrive': 180,\n",
       " 'fuck': 779,\n",
       " 'this': 1742,\n",
       " 'will': 1941,\n",
       " 'never': 1191,\n",
       " 'bad': 222,\n",
       " 'weather': 1910,\n",
       " 'multiple': 1176,\n",
       " 'has': 848,\n",
       " 'time': 1759,\n",
       " 'reservation': 1464,\n",
       " 'cant': 318,\n",
       " 'through': 1749,\n",
       " 'woman': 1950,\n",
       " 'who': 1933,\n",
       " 'working': 1961,\n",
       " 'find': 710,\n",
       " 'tonight': 1772,\n",
       " 'exec': 647,\n",
       " 'online': 1244,\n",
       " 'clear': 378,\n",
       " 'amazing': 140,\n",
       " 'officially': 1230,\n",
       " 'favorite': 689,\n",
       " 'airline': 119,\n",
       " 'day': 492,\n",
       " 'like': 1037,\n",
       " 'waited': 1887,\n",
       " 'bags': 227,\n",
       " 'coming': 399,\n",
       " 'ahead': 116,\n",
       " 'live': 1047,\n",
       " 'premium': 1365,\n",
       " 'route': 1490,\n",
       " 'lhr': 1031,\n",
       " 'well': 1919,\n",
       " 'didn': 538,\n",
       " 'then': 1733,\n",
       " 'airplane': 121,\n",
       " 'worst': 1968,\n",
       " 'fly': 743,\n",
       " 'ever': 633,\n",
       " 'train': 1785,\n",
       " 'attendants': 203,\n",
       " 'monday': 1160,\n",
       " 're': 1413,\n",
       " 'haven': 854,\n",
       " 'any': 159,\n",
       " 'idea': 919,\n",
       " 'what': 1925,\n",
       " '200': 21,\n",
       " 'couldn': 453,\n",
       " 'even': 630,\n",
       " 'give': 802,\n",
       " 'food': 752,\n",
       " 'comp': 404,\n",
       " 'take': 1700,\n",
       " 'stranded': 1668,\n",
       " 'flying': 747,\n",
       " 'new': 1193,\n",
       " 'we': 1909,\n",
       " 'stuck': 1669,\n",
       " 'rather': 1411,\n",
       " 'than': 1723,\n",
       " 'broken': 285,\n",
       " 'charlotte': 356,\n",
       " 'service': 1550,\n",
       " 'agents': 114,\n",
       " 'kind': 990,\n",
       " 'way': 1907,\n",
       " 'hopefully': 889,\n",
       " 'future': 789,\n",
       " 'different': 542,\n",
       " 'procedure': 1378,\n",
       " 'car': 320,\n",
       " 'seat': 1527,\n",
       " 'lost': 1067,\n",
       " 'reimburse': 1440,\n",
       " 'one': 1242,\n",
       " 'child': 367,\n",
       " 'baggage': 226,\n",
       " 'handlers': 835,\n",
       " 'totally': 1777,\n",
       " 'our': 1261,\n",
       " 'barely': 230,\n",
       " 'run': 1502,\n",
       " 'connect': 431,\n",
       " 'den': 514,\n",
       " 'came': 311,\n",
       " 'mail': 1087,\n",
       " 'early': 592,\n",
       " 'bird': 258,\n",
       " 'great': 819,\n",
       " 'first': 716,\n",
       " 'crew': 468,\n",
       " 'takes': 1703,\n",
       " 'overhead': 1270,\n",
       " 'bin': 256,\n",
       " 'space': 1627,\n",
       " 'paying': 1295,\n",
       " 'customers': 479,\n",
       " 'annoyed': 152,\n",
       " 'stay': 1655,\n",
       " 'please': 1336,\n",
       " 'which': 1931,\n",
       " 'name': 1182,\n",
       " 'tag': 1699,\n",
       " '11': 6,\n",
       " 'planes': 1327,\n",
       " '50': 55,\n",
       " 'its': 968,\n",
       " '10': 2,\n",
       " '20': 20,\n",
       " 'tarmac': 1709,\n",
       " 'going': 811,\n",
       " 'compensate': 408,\n",
       " 'companion': 405,\n",
       " 'pass': 1283,\n",
       " 'ridiculous': 1482,\n",
       " 'hadn': 829,\n",
       " 'stopped': 1663,\n",
       " 'hotels': 896,\n",
       " 'non': 1204,\n",
       " 'solve': 1610,\n",
       " 'miss': 1151,\n",
       " 'funeral': 786,\n",
       " 'suck': 1674,\n",
       " 'newark': 1194,\n",
       " 'checked': 360,\n",
       " 'under': 1833,\n",
       " 'too': 1773,\n",
       " 'happy': 845,\n",
       " 'enter': 617,\n",
       " 'hey': 873,\n",
       " 'remember': 1445,\n",
       " 'do': 563,\n",
       " 'email': 603,\n",
       " 'gotten': 818,\n",
       " 'yet': 1990,\n",
       " 'delays': 509,\n",
       " 'little': 1046,\n",
       " 'communication': 403,\n",
       " 'goes': 810,\n",
       " 'nice': 1198,\n",
       " 'routes': 1491,\n",
       " 'jet': 972,\n",
       " 'blue': 265,\n",
       " 'southwest': 1625,\n",
       " 'least': 1015,\n",
       " 'treat': 1796,\n",
       " 'properly': 1387,\n",
       " 'heads': 860,\n",
       " 'arrived': 181,\n",
       " 'those': 1745,\n",
       " 'aren': 177,\n",
       " 'claim': 373,\n",
       " 'point': 1344,\n",
       " 'gt': 822,\n",
       " 'after': 109,\n",
       " 'planned': 1328,\n",
       " 'departure': 521,\n",
       " 'california': 305,\n",
       " 'here': 872,\n",
       " 'originally': 1255,\n",
       " 'keeping': 983,\n",
       " 'safe': 1507,\n",
       " 'sister': 1583,\n",
       " 'reply': 1450,\n",
       " 'ur': 1858,\n",
       " 'services': 1551,\n",
       " '18': 15,\n",
       " 'response': 1473,\n",
       " 'lousy': 1071,\n",
       " 'unitedairlines': 1843,\n",
       " 'following': 751,\n",
       " 'ice': 915,\n",
       " 'front': 774,\n",
       " 'landed': 1004,\n",
       " 'information': 946,\n",
       " 'saw': 1517,\n",
       " 'helpful': 869,\n",
       " 'specific': 1631,\n",
       " 'cs': 473,\n",
       " 'look': 1060,\n",
       " 'apologize': 167,\n",
       " 'trouble': 1802,\n",
       " 'buffalo': 291,\n",
       " 'jfk': 975,\n",
       " 'figured': 703,\n",
       " 'anything': 162,\n",
       " 'make': 1091,\n",
       " 'll': 1049,\n",
       " 'excuses': 646,\n",
       " 'hi': 874,\n",
       " 'im': 923,\n",
       " 'speak': 1628,\n",
       " 'travel': 1790,\n",
       " 'minor': 1144,\n",
       " 'keeps': 984,\n",
       " 'advise': 106,\n",
       " 'website': 1912,\n",
       " 'wont': 1955,\n",
       " 'allow': 128,\n",
       " 'thx': 1753,\n",
       " 'social': 1607,\n",
       " 'media': 1114,\n",
       " 'memphis': 1120,\n",
       " 'something': 1615,\n",
       " 'also': 135,\n",
       " 'useless': 1866,\n",
       " 'canned': 316,\n",
       " '1k': 18,\n",
       " 'let': 1025,\n",
       " 'kids': 988,\n",
       " 'board': 268,\n",
       " 'wish': 1946,\n",
       " 'team': 1712,\n",
       " 'member': 1118,\n",
       " 'pick': 1316,\n",
       " 'alone': 132,\n",
       " 'clt': 383,\n",
       " 'gonna': 814,\n",
       " 'connection': 434,\n",
       " 'ua': 1824,\n",
       " 'change': 345,\n",
       " 'music': 1177,\n",
       " 'leaving': 1018,\n",
       " 'morning': 1165,\n",
       " 'auto': 208,\n",
       " 'tuesday': 1810,\n",
       " 'night': 1199,\n",
       " 'horrendous': 891,\n",
       " 'flown': 741,\n",
       " 'come': 396,\n",
       " 'pathetic': 1290,\n",
       " 'waiting': 1888,\n",
       " 'yesterday': 1989,\n",
       " 'class': 374,\n",
       " 'passenger': 1286,\n",
       " 'win': 1943,\n",
       " 'lt': 1080,\n",
       " 'mind': 1142,\n",
       " 'states': 1653,\n",
       " 'maintenance': 1089,\n",
       " 'app': 169,\n",
       " 'says': 1520,\n",
       " 'arriving': 183,\n",
       " 'aircraft': 118,\n",
       " 'tell': 1715,\n",
       " 'unfriendly': 1838,\n",
       " 'right': 1483,\n",
       " 'whole': 1935,\n",
       " 'form': 758,\n",
       " 'before': 244,\n",
       " 'direct': 545,\n",
       " 'address': 101,\n",
       " 'plans': 1330,\n",
       " 'system': 1697,\n",
       " 'reflight': 1433,\n",
       " 'booking': 274,\n",
       " 'problems': 1377,\n",
       " 'disconnect': 553,\n",
       " 'between': 252,\n",
       " 'face': 669,\n",
       " 'enough': 616,\n",
       " 'miles': 1138,\n",
       " 'enjoy': 615,\n",
       " 'perfect': 1302,\n",
       " 'coffee': 392,\n",
       " 'tracking': 1783,\n",
       " 'tells': 1717,\n",
       " 'nothing': 1213,\n",
       " 'less': 1023,\n",
       " 'easily': 595,\n",
       " 'company': 406,\n",
       " 'experienced': 655,\n",
       " 'personal': 1306,\n",
       " 'caused': 333,\n",
       " 'ruining': 1500,\n",
       " 'ashamed': 187,\n",
       " 'gave': 795,\n",
       " 'wrong': 1975,\n",
       " 'nothappy': 1212,\n",
       " 'vouchers': 1885,\n",
       " 'runway': 1504,\n",
       " 'saturday': 1515,\n",
       " 'bwi': 301,\n",
       " 'appreciate': 172,\n",
       " 'power': 1358,\n",
       " 'laptop': 1006,\n",
       " 'iphone': 958,\n",
       " 'missing': 1153,\n",
       " 'good': 815,\n",
       " 'holder': 881,\n",
       " 'conditions': 422,\n",
       " 'arrival': 179,\n",
       " 'de': 496,\n",
       " 'icing': 916,\n",
       " 'three': 1748,\n",
       " 'far': 682,\n",
       " 'sure': 1686,\n",
       " 'taking': 1704,\n",
       " '15': 11,\n",
       " '12': 7,\n",
       " '40': 48,\n",
       " '45': 51,\n",
       " 'minutes': 1148,\n",
       " 'jetway': 974,\n",
       " 'hotel': 895,\n",
       " '32': 41,\n",
       " 'counting': 457,\n",
       " 'gotta': 817,\n",
       " 'record': 1430,\n",
       " 'air': 117,\n",
       " 'delivered': 511,\n",
       " 'destination': 530,\n",
       " 'frequent': 767,\n",
       " 'traveler': 1792,\n",
       " 'treated': 1797,\n",
       " 'offer': 1226,\n",
       " 'pls': 1340,\n",
       " 'start': 1647,\n",
       " 'luv': 1084,\n",
       " 'ya': 1979,\n",
       " 'finally': 709,\n",
       " 'nashville': 1183,\n",
       " 'answers': 158,\n",
       " 'away': 216,\n",
       " 'chicago': 365,\n",
       " 'drove': 585,\n",
       " 'prepared': 1366,\n",
       " 'bringing': 283,\n",
       " 'does': 564,\n",
       " 'sense': 1544,\n",
       " 'yay': 1981,\n",
       " 'nuts': 1220,\n",
       " 'cold': 393,\n",
       " 'eventually': 632,\n",
       " 'explained': 659,\n",
       " 'virginamerica': 1881,\n",
       " 'understanding': 1835,\n",
       " 'helped': 868,\n",
       " 'best': 250,\n",
       " 'lady': 1000,\n",
       " 'advance': 104,\n",
       " '24': 27,\n",
       " 'prior': 1372,\n",
       " 'tried': 1799,\n",
       " 'earlier': 591,\n",
       " 'wanted': 1895,\n",
       " '300': 37,\n",
       " 'fees': 696,\n",
       " 'sfo': 1555,\n",
       " 'say': 1518,\n",
       " 'consistent': 438,\n",
       " 'high': 875,\n",
       " 'quality': 1400,\n",
       " 'keep': 982,\n",
       " 'quick': 1404,\n",
       " 'serious': 1546,\n",
       " 'question': 1401,\n",
       " 'showing': 1571,\n",
       " 'place': 1323,\n",
       " 'fyi': 790,\n",
       " 'dropped': 584,\n",
       " 'able': 77,\n",
       " 'conf': 423,\n",
       " 'appreciated': 173,\n",
       " 'suppose': 1684,\n",
       " 'til': 1757,\n",
       " 'glad': 806,\n",
       " 'damaged': 488,\n",
       " 'answer': 155,\n",
       " 'hung': 911,\n",
       " 'disappointed': 549,\n",
       " 'losing': 1065,\n",
       " 'fill': 706,\n",
       " 'soon': 1618,\n",
       " 'land': 1003,\n",
       " 'hope': 888,\n",
       " 'feedback': 693,\n",
       " 'virgin': 1880,\n",
       " 'went': 1920,\n",
       " 'smooth': 1601,\n",
       " 'ride': 1481,\n",
       " 'wow': 1973,\n",
       " 'thinking': 1740,\n",
       " 'same': 1512,\n",
       " 'ps': 1391,\n",
       " 'overnight': 1271,\n",
       " 'meet': 1115,\n",
       " 'either': 601,\n",
       " 'connections': 435,\n",
       " 'tx': 1821,\n",
       " 'see': 1535,\n",
       " 'year': 1984,\n",
       " 'love': 1072,\n",
       " 'consider': 436,\n",
       " 'fare': 683,\n",
       " 'price': 1369,\n",
       " 'try': 1807,\n",
       " 'father': 687,\n",
       " 'loved': 1074,\n",
       " 'likely': 1038,\n",
       " 'slow': 1598,\n",
       " 'internet': 954,\n",
       " 'addressed': 102,\n",
       " 'fee': 692,\n",
       " 'yes': 1988,\n",
       " 'cust': 477,\n",
       " 'svc': 1689,\n",
       " 'said': 1510,\n",
       " 'evening': 631,\n",
       " 'further': 788,\n",
       " 'both': 277,\n",
       " 'during': 588,\n",
       " 'broke': 284,\n",
       " 'open': 1247,\n",
       " 'camera': 312,\n",
       " 'read': 1416,\n",
       " 'believe': 247,\n",
       " 'incident': 934,\n",
       " 'fault': 688,\n",
       " 'sw': 1690,\n",
       " 'done': 572,\n",
       " 'ive': 969,\n",
       " 'boarding': 270,\n",
       " 'catering': 331,\n",
       " 'always': 138,\n",
       " 'nightmare': 1200,\n",
       " 'fail': 671,\n",
       " 'kidding': 987,\n",
       " 'talked': 1706,\n",
       " 'human': 908,\n",
       " 'asking': 190,\n",
       " 'follow': 749,\n",
       " 'vacation': 1870,\n",
       " 'finish': 714,\n",
       " 'some': 1611,\n",
       " 'text': 1722,\n",
       " 'carrier': 325,\n",
       " 'card': 321,\n",
       " 'nope': 1207,\n",
       " 'apparently': 170,\n",
       " 'times': 1761,\n",
       " 'wtf': 1977,\n",
       " 'looks': 1063,\n",
       " 'handling': 836,\n",
       " 'connecting': 433,\n",
       " 'thru': 1751,\n",
       " 'impossible': 928,\n",
       " 'actually': 96,\n",
       " 'final': 708,\n",
       " 'attitude': 205,\n",
       " 'these': 1735,\n",
       " 'mco': 1105,\n",
       " 'iad': 913,\n",
       " 'fingers': 713,\n",
       " 'crossed': 471,\n",
       " 'four': 762,\n",
       " 'meeting': 1116,\n",
       " 'atlanta': 199,\n",
       " 'slept': 1597,\n",
       " 'security': 1534,\n",
       " 'onto': 1246,\n",
       " 'crying': 472,\n",
       " 'baby': 220,\n",
       " 'situation': 1587,\n",
       " 'drop': 583,\n",
       " 'incredibly': 941,\n",
       " 'unacceptable': 1829,\n",
       " 'issues': 963,\n",
       " 'based': 231,\n",
       " 'things': 1738,\n",
       " 'control': 444,\n",
       " 'wifi': 1940,\n",
       " 'tv': 1814,\n",
       " 'double': 576,\n",
       " 'comment': 400,\n",
       " 'anywhere': 164,\n",
       " 'south': 1624,\n",
       " 'florida': 740,\n",
       " 'gone': 813,\n",
       " 'hello': 866,\n",
       " 'forgot': 757,\n",
       " 'thought': 1747,\n",
       " 'mosaic': 1166,\n",
       " 'perks': 1304,\n",
       " 'part': 1281,\n",
       " 'checking': 362,\n",
       " '60': 62,\n",
       " 'upgrade': 1854,\n",
       " 'solution': 1609,\n",
       " 'show': 1569,\n",
       " 'track': 1782,\n",
       " 'disappeared': 548,\n",
       " 'dulles': 587,\n",
       " 'lax': 1011,\n",
       " 'thursday': 1752,\n",
       " 'honest': 884,\n",
       " 'reschedule': 1461,\n",
       " 'btw': 289,\n",
       " 'intl': 955,\n",
       " 'flightd': 729,\n",
       " 'area': 176,\n",
       " 'pretty': 1367,\n",
       " 'probably': 1375,\n",
       " 'plus': 1341,\n",
       " 'hearing': 863,\n",
       " 'overbooked': 1269,\n",
       " 'since': 1580,\n",
       " 'file': 704,\n",
       " 'cool': 445,\n",
       " 'pre': 1361,\n",
       " 'thing': 1737,\n",
       " 'single': 1582,\n",
       " 'philly': 1308,\n",
       " 'deal': 498,\n",
       " 'boarded': 269,\n",
       " 'joke': 978,\n",
       " 'computer': 417,\n",
       " 'ing': 948,\n",
       " 'complain': 411,\n",
       " 'public': 1392,\n",
       " 'afternoon': 110,\n",
       " 'six': 1588,\n",
       " 'layover': 1012,\n",
       " 'party': 1282,\n",
       " 'assist': 193,\n",
       " 'except': 643,\n",
       " 'message': 1125,\n",
       " 'trust': 1806,\n",
       " 'bna': 267,\n",
       " 'rdu': 1412,\n",
       " 'most': 1167,\n",
       " 'excellent': 642,\n",
       " 'fa': 666,\n",
       " 'such': 1673,\n",
       " 'warm': 1897,\n",
       " 'onboard': 1240,\n",
       " 'welcome': 1918,\n",
       " 'wonder': 1952,\n",
       " 'hate': 851,\n",
       " 'dealing': 499,\n",
       " 'airlines': 120,\n",
       " 'policies': 1347,\n",
       " 'resolution': 1466,\n",
       " 'jan': 970,\n",
       " 'options': 1250,\n",
       " 'returning': 1478,\n",
       " 'hanging': 839,\n",
       " 'mistake': 1154,\n",
       " 'replying': 1451,\n",
       " 'feel': 694,\n",
       " 'requested': 1457,\n",
       " 'reward': 1479,\n",
       " 'points': 1345,\n",
       " 'used': 1864,\n",
       " 'he': 856,\n",
       " 'refused': 1438,\n",
       " 'screwed': 1525,\n",
       " 'big': 254,\n",
       " '1hr': 17,\n",
       " '2nd': 34,\n",
       " 'wouldn': 1972,\n",
       " 'view': 1879,\n",
       " 'changes': 347,\n",
       " 'outside': 1265,\n",
       " 'flightr': 736,\n",
       " 'acceptable': 84,\n",
       " 'entire': 619,\n",
       " 'dca': 495,\n",
       " 'nobody': 1203,\n",
       " 'knows': 996,\n",
       " 'pm': 1343,\n",
       " 'job': 977,\n",
       " 'angry': 149,\n",
       " 'kudos': 997,\n",
       " 'fast': 685,\n",
       " 'congrats': 430,\n",
       " 'systems': 1698,\n",
       " 'down': 577,\n",
       " 'plan': 1325,\n",
       " 'american': 142,\n",
       " 'cuz': 482,\n",
       " 'behind': 245,\n",
       " 'schedule': 1521,\n",
       " 'staff': 1642,\n",
       " 'cabin': 304,\n",
       " 'bos': 275,\n",
       " 'ogg': 1232,\n",
       " 'using': 1867,\n",
       " 'hard': 846,\n",
       " 'given': 803,\n",
       " 'legs': 1022,\n",
       " 'confirm': 425,\n",
       " 'informed': 947,\n",
       " 'flightlation': 732,\n",
       " 'letter': 1027,\n",
       " 'sna': 1602,\n",
       " 'causes': 334,\n",
       " 'provide': 1388,\n",
       " 'transportation': 1789,\n",
       " 'wedding': 1913,\n",
       " 'watch': 1903,\n",
       " '3hrs': 45,\n",
       " 'sju': 1591,\n",
       " 'worse': 1967,\n",
       " 'handle': 833,\n",
       " 'hangs': 840,\n",
       " 'wall': 1892,\n",
       " 'middle': 1133,\n",
       " 'mad': 1085,\n",
       " 'unhelpful': 1841,\n",
       " 'rude': 1498,\n",
       " '2hrs': 33,\n",
       " 'beyond': 253,\n",
       " 'spiritairlines': 1636,\n",
       " 'receive': 1426,\n",
       " 'assistance': 194,\n",
       " 'apology': 168,\n",
       " 'disappointing': 550,\n",
       " 'airways': 124,\n",
       " 'answering': 157,\n",
       " 'ugh': 1826,\n",
       " 'ok': 1234,\n",
       " 'insane': 949,\n",
       " 'request': 1456,\n",
       " 'completely': 415,\n",
       " 'paid': 1275,\n",
       " 'group': 821,\n",
       " 'doing': 568,\n",
       " 'while': 1932,\n",
       " 'isn': 960,\n",
       " 'supervisor': 1682,\n",
       " 'regarding': 1439,\n",
       " 'travels': 1795,\n",
       " 'stuff': 1670,\n",
       " 'carry': 327,\n",
       " 'spent': 1635,\n",
       " 'account': 89,\n",
       " 'houston': 900,\n",
       " 'express': 661,\n",
       " '35': 42,\n",
       " 'additional': 100,\n",
       " 'delivery': 512,\n",
       " 'crazy': 466,\n",
       " 'update': 1851,\n",
       " 'infant': 943,\n",
       " 'children': 368,\n",
       " 'nyc': 1222,\n",
       " 'unbelievable': 1831,\n",
       " 'inbound': 933,\n",
       " 'equipment': 622,\n",
       " 'moving': 1171,\n",
       " 'happens': 844,\n",
       " 'often': 1231,\n",
       " 'la': 998,\n",
       " 'gives': 804,\n",
       " 'absolute': 80,\n",
       " 'found': 761,\n",
       " 'straight': 1666,\n",
       " 'talk': 1705,\n",
       " 'rescheduled': 1462,\n",
       " 'okay': 1235,\n",
       " 'large': 1007,\n",
       " 'real': 1418,\n",
       " 'god': 809,\n",
       " 'tiny': 1762,\n",
       " 'man': 1094,\n",
       " 'past': 1289,\n",
       " 'assignment': 192,\n",
       " 'chairman': 343,\n",
       " 'preferred': 1363,\n",
       " 'row': 1493,\n",
       " 'employee': 608,\n",
       " 'telling': 1716,\n",
       " 'fit': 717,\n",
       " 'clearly': 379,\n",
       " 'fits': 718,\n",
       " 'nah': 1181,\n",
       " 'dont': 573,\n",
       " 'humans': 909,\n",
       " 'respond': 1470,\n",
       " 'relations': 1444,\n",
       " 'midnight': 1134,\n",
       " 'cheers': 363,\n",
       " 'mean': 1109,\n",
       " 'posted': 1357,\n",
       " 'usair': 1860,\n",
       " '800': 71,\n",
       " 'calls': 310,\n",
       " 'contact': 439,\n",
       " 'understand': 1834,\n",
       " 'missed': 1152,\n",
       " 'mechanical': 1112,\n",
       " 'failure': 674,\n",
       " 'lose': 1064,\n",
       " '400': 49,\n",
       " 'mon': 1159,\n",
       " 'status': 1654,\n",
       " 'match': 1101,\n",
       " 'program': 1381,\n",
       " 'weeks': 1917,\n",
       " 'emailed': 604,\n",
       " 'inside': 950,\n",
       " 'money': 1161,\n",
       " 'phones': 1313,\n",
       " 'suggestions': 1677,\n",
       " '48': 52,\n",
       " 'frustrated': 776,\n",
       " 'items': 966,\n",
       " 'embarrassing': 606,\n",
       " ...}"
      ]
     },
     "execution_count": 36,
     "metadata": {},
     "output_type": "execute_result"
    }
   ],
   "source": [
    "word_index_map = vectorizer.vocabulary_\n",
    "word_index_map"
   ]
  },
  {
   "cell_type": "code",
   "execution_count": 37,
   "metadata": {
    "colab": {
     "base_uri": "https://localhost:8080/"
    },
    "executionInfo": {
     "elapsed": 241,
     "status": "ok",
     "timestamp": 1686548743349,
     "user": {
      "displayName": "Aulia Khilmi Rizgi",
      "userId": "16465661636667067588"
     },
     "user_tz": -540
    },
    "id": "-uUFbf26IE5P",
    "outputId": "a8a42032-6bc4-4497-d1a3-182c967e06ab"
   },
   "outputs": [
    {
     "name": "stdout",
     "output_type": "stream",
     "text": [
      "Most positive words:\n",
      "thanks 6.51326\n",
      "thank 6.379374\n",
      "worries 5.999994\n",
      "great 5.931777\n",
      "awesome 5.4236455\n",
      "love 5.316617\n",
      "amazing 5.1562037\n",
      "excellent 5.152789\n",
      "kudos 5.0192156\n",
      "best 4.930279\n"
     ]
    }
   ],
   "source": [
    "threshold = 2\n",
    "\n",
    "print(\"Most positive words:\")\n",
    "word_weight_tuples = []\n",
    "for word, index in word_index_map.items():\n",
    "  weight = w[index, 0]\n",
    "  if weight > threshold:\n",
    "    word_weight_tuples.append((word, weight))\n",
    "\n",
    "word_weight_tuples = sorted(word_weight_tuples, key=lambda x: -x[1])\n",
    "for i in range(10):\n",
    "  word, weight = word_weight_tuples[i]\n",
    "  print(word, weight)"
   ]
  },
  {
   "cell_type": "code",
   "execution_count": 38,
   "metadata": {
    "colab": {
     "base_uri": "https://localhost:8080/"
    },
    "executionInfo": {
     "elapsed": 233,
     "status": "ok",
     "timestamp": 1686548843615,
     "user": {
      "displayName": "Aulia Khilmi Rizgi",
      "userId": "16465661636667067588"
     },
     "user_tz": -540
    },
    "id": "6-R19e51JJyb",
    "outputId": "0e2a574e-1fa0-4399-a262-1022b4263341"
   },
   "outputs": [
    {
     "name": "stdout",
     "output_type": "stream",
     "text": [
      "Most megative words:\n",
      "worst -6.070373\n",
      "paid -5.368641\n",
      "not -5.2820044\n",
      "nothing -5.0996447\n",
      "rude -5.0818224\n",
      "website -4.927443\n",
      "disappointed -4.759812\n",
      "failed -4.5539236\n",
      "list -4.4802027\n",
      "delayed -4.450682\n"
     ]
    }
   ],
   "source": [
    "print(\"Most megative words:\")\n",
    "word_weight_tuples = []\n",
    "for word, index in word_index_map.items():\n",
    "  weight = w[index, 0]\n",
    "  if weight < -threshold:\n",
    "    word_weight_tuples.append((word, weight))\n",
    "\n",
    "word_weight_tuples = sorted(word_weight_tuples, key=lambda x: x[1])\n",
    "for i in range(10):\n",
    "  word, weight = word_weight_tuples[i]\n",
    "  print(word, weight)"
   ]
  },
  {
   "cell_type": "code",
   "execution_count": null,
   "metadata": {},
   "outputs": [],
   "source": []
  }
 ],
 "metadata": {
  "colab": {
   "provenance": []
  },
  "kernelspec": {
   "display_name": "Python 3 (ipykernel)",
   "language": "python",
   "name": "python3"
  },
  "language_info": {
   "codemirror_mode": {
    "name": "ipython",
    "version": 3
   },
   "file_extension": ".py",
   "mimetype": "text/x-python",
   "name": "python",
   "nbconvert_exporter": "python",
   "pygments_lexer": "ipython3",
   "version": "3.10.11"
  }
 },
 "nbformat": 4,
 "nbformat_minor": 4
}
