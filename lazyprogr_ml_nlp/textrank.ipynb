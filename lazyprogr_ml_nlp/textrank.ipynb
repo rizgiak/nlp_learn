{
 "cells": [
  {
   "cell_type": "code",
   "execution_count": 10,
   "metadata": {},
   "outputs": [],
   "source": [
    "import pandas as pd\n",
    "import numpy as np\n",
    "import textwrap\n",
    "import nltk\n",
    "\n",
    "from nltk.corpus import stopwords\n",
    "from nltk import word_tokenize\n",
    "from nltk.stem import WordNetLemmatizer, PorterStemmer\n",
    "from sklearn.feature_extraction.text import TfidfVectorizer\n",
    "from sklearn.metrics.pairwise import cosine_similarity"
   ]
  },
  {
   "cell_type": "code",
   "execution_count": 2,
   "metadata": {},
   "outputs": [
    {
     "name": "stderr",
     "output_type": "stream",
     "text": [
      "[nltk_data] Error loading punkt: <urlopen error [WinError 10054]\n",
      "[nltk_data]     既存の接続はリモート ホストに強制的に切断されました。>\n",
      "[nltk_data] Error loading stopwords: <urlopen error [WinError 10054]\n",
      "[nltk_data]     既存の接続はリモート ホストに強制的に切断されました。>\n"
     ]
    },
    {
     "data": {
      "text/plain": [
       "False"
      ]
     },
     "execution_count": 2,
     "metadata": {},
     "output_type": "execute_result"
    }
   ],
   "source": [
    "nltk.download(\"punkt\")\n",
    "nltk.download(\"stopwords\")"
   ]
  },
  {
   "cell_type": "code",
   "execution_count": 3,
   "metadata": {},
   "outputs": [
    {
     "data": {
      "text/html": [
       "<div>\n",
       "<style scoped>\n",
       "    .dataframe tbody tr th:only-of-type {\n",
       "        vertical-align: middle;\n",
       "    }\n",
       "\n",
       "    .dataframe tbody tr th {\n",
       "        vertical-align: top;\n",
       "    }\n",
       "\n",
       "    .dataframe thead th {\n",
       "        text-align: right;\n",
       "    }\n",
       "</style>\n",
       "<table border=\"1\" class=\"dataframe\">\n",
       "  <thead>\n",
       "    <tr style=\"text-align: right;\">\n",
       "      <th></th>\n",
       "      <th>text</th>\n",
       "      <th>labels</th>\n",
       "    </tr>\n",
       "  </thead>\n",
       "  <tbody>\n",
       "    <tr>\n",
       "      <th>0</th>\n",
       "      <td>Ad sales boost Time Warner profit\\n\\nQuarterly...</td>\n",
       "      <td>business</td>\n",
       "    </tr>\n",
       "    <tr>\n",
       "      <th>1</th>\n",
       "      <td>Dollar gains on Greenspan speech\\n\\nThe dollar...</td>\n",
       "      <td>business</td>\n",
       "    </tr>\n",
       "    <tr>\n",
       "      <th>2</th>\n",
       "      <td>Yukos unit buyer faces loan claim\\n\\nThe owner...</td>\n",
       "      <td>business</td>\n",
       "    </tr>\n",
       "    <tr>\n",
       "      <th>3</th>\n",
       "      <td>High fuel prices hit BA's profits\\n\\nBritish A...</td>\n",
       "      <td>business</td>\n",
       "    </tr>\n",
       "    <tr>\n",
       "      <th>4</th>\n",
       "      <td>Pernod takeover talk lifts Domecq\\n\\nShares in...</td>\n",
       "      <td>business</td>\n",
       "    </tr>\n",
       "  </tbody>\n",
       "</table>\n",
       "</div>"
      ],
      "text/plain": [
       "                                                text    labels\n",
       "0  Ad sales boost Time Warner profit\\n\\nQuarterly...  business\n",
       "1  Dollar gains on Greenspan speech\\n\\nThe dollar...  business\n",
       "2  Yukos unit buyer faces loan claim\\n\\nThe owner...  business\n",
       "3  High fuel prices hit BA's profits\\n\\nBritish A...  business\n",
       "4  Pernod takeover talk lifts Domecq\\n\\nShares in...  business"
      ]
     },
     "execution_count": 3,
     "metadata": {},
     "output_type": "execute_result"
    }
   ],
   "source": [
    "df = pd.read_csv(\"bbc_text_cls.csv\")\n",
    "df.head()"
   ]
  },
  {
   "cell_type": "code",
   "execution_count": 4,
   "metadata": {},
   "outputs": [],
   "source": [
    "doc = df[df.labels == \"business\"][\"text\"].sample(random_state=42)"
   ]
  },
  {
   "cell_type": "code",
   "execution_count": 5,
   "metadata": {},
   "outputs": [],
   "source": [
    "def wrap(x):\n",
    "    return textwrap.fill(x, replace_whitespace=False, fix_sentence_endings=True)"
   ]
  },
  {
   "cell_type": "code",
   "execution_count": 6,
   "metadata": {},
   "outputs": [
    {
     "name": "stdout",
     "output_type": "stream",
     "text": [
      "Christmas sales worst since 1981\n",
      "\n",
      "UK retail sales fell in December,\n",
      "failing to meet expectations and making it by some counts the worst\n",
      "Christmas since 1981.\n",
      "\n",
      "Retail sales dropped by 1% on the month in\n",
      "December, after a 0.6% rise in November, the Office for National\n",
      "Statistics (ONS) said.  The ONS revised the annual 2004 rate of growth\n",
      "down from the 5.9% estimated in November to 3.2%. A number of\n",
      "retailers have already reported poor figures for December.  Clothing\n",
      "retailers and non-specialist stores were the worst hit with only\n",
      "internet retailers showing any significant growth, according to the\n",
      "ONS.\n",
      "\n",
      "The last time retailers endured a tougher Christmas was 23 years\n",
      "previously, when sales plunged 1.7%.\n",
      "\n",
      "The ONS echoed an earlier\n",
      "caution from Bank of England governor Mervyn King not to read too much\n",
      "into the poor December figures.  Some analysts put a positive gloss on\n",
      "the figures, pointing out that the non-seasonally-adjusted figures\n",
      "showed a performance comparable with 2003. The November-December jump\n",
      "last year was roughly comparable with recent averages, although some\n",
      "way below the serious booms seen in the 1990s.  And figures for retail\n",
      "volume outperformed measures of actual spending, an indication that\n",
      "consumers are looking for bargains, and retailers are cutting their\n",
      "prices.\n",
      "\n",
      "However, reports from some High Street retailers highlight\n",
      "the weakness of the sector.  Morrisons, Woolworths, House of Fraser,\n",
      "Marks & Spencer and Big Food all said that the festive period was\n",
      "disappointing.\n",
      "\n",
      "And a British Retail Consortium survey found that\n",
      "Christmas 2004 was the worst for 10 years.  Yet, other retailers -\n",
      "including HMV, Monsoon, Jessops, Body Shop and Tesco - reported that\n",
      "festive sales were well up on last year.  Investec chief economist\n",
      "Philip Shaw said he did not expect the poor retail figures to have any\n",
      "immediate effect on interest rates.  \"The retail sales figures are\n",
      "very weak, but as Bank of England governor Mervyn King indicated last\n",
      "night, you don't really get an accurate impression of Christmas\n",
      "trading until about Easter,\" said Mr Shaw.  \"Our view is the Bank of\n",
      "England will keep its powder dry and wait to see the big picture.\"\n"
     ]
    }
   ],
   "source": [
    "print(wrap(doc.iloc[0]))"
   ]
  },
  {
   "cell_type": "code",
   "execution_count": 7,
   "metadata": {},
   "outputs": [],
   "source": [
    "sents = nltk.sent_tokenize(doc.iloc[0].split(\"\\n\", 1)[1])"
   ]
  },
  {
   "cell_type": "code",
   "execution_count": 8,
   "metadata": {},
   "outputs": [],
   "source": [
    "featurizer = TfidfVectorizer(stop_words=stopwords.words(\"english\"), norm=\"l1\")"
   ]
  },
  {
   "cell_type": "code",
   "execution_count": 9,
   "metadata": {},
   "outputs": [],
   "source": [
    "X = featurizer.fit_transform(sents)"
   ]
  },
  {
   "cell_type": "code",
   "execution_count": 11,
   "metadata": {},
   "outputs": [],
   "source": [
    "S = cosine_similarity(X)"
   ]
  },
  {
   "cell_type": "code",
   "execution_count": 12,
   "metadata": {},
   "outputs": [
    {
     "data": {
      "text/plain": [
       "(17, 17)"
      ]
     },
     "execution_count": 12,
     "metadata": {},
     "output_type": "execute_result"
    }
   ],
   "source": [
    "S.shape"
   ]
  },
  {
   "cell_type": "code",
   "execution_count": 13,
   "metadata": {},
   "outputs": [
    {
     "data": {
      "text/plain": [
       "17"
      ]
     },
     "execution_count": 13,
     "metadata": {},
     "output_type": "execute_result"
    }
   ],
   "source": [
    "len(sents)"
   ]
  },
  {
   "cell_type": "code",
   "execution_count": 14,
   "metadata": {},
   "outputs": [],
   "source": [
    "# normalize similarity matrix\n",
    "S /= S.sum(axis=1, keepdims=True)"
   ]
  },
  {
   "cell_type": "code",
   "execution_count": 15,
   "metadata": {},
   "outputs": [
    {
     "data": {
      "text/plain": [
       "1.0"
      ]
     },
     "execution_count": 15,
     "metadata": {},
     "output_type": "execute_result"
    }
   ],
   "source": [
    "S[0].sum()"
   ]
  },
  {
   "cell_type": "code",
   "execution_count": 17,
   "metadata": {},
   "outputs": [],
   "source": [
    "# uniform transition matrix\n",
    "U = np.ones_like(S) / len(S)"
   ]
  },
  {
   "cell_type": "code",
   "execution_count": 18,
   "metadata": {},
   "outputs": [
    {
     "data": {
      "text/plain": [
       "1.0"
      ]
     },
     "execution_count": 18,
     "metadata": {},
     "output_type": "execute_result"
    }
   ],
   "source": [
    "U[0].sum()"
   ]
  },
  {
   "cell_type": "code",
   "execution_count": 21,
   "metadata": {},
   "outputs": [],
   "source": [
    "# smoothed similarity matrix\n",
    "factor = 0.15\n",
    "S = (1-factor)*S + factor * U"
   ]
  },
  {
   "cell_type": "code",
   "execution_count": 23,
   "metadata": {},
   "outputs": [
    {
     "data": {
      "text/plain": [
       "array([[0.4929689 , 0.06826234, 0.00882353, 0.03785608, 0.03413282,\n",
       "        0.05491983, 0.02798498, 0.00882353, 0.02594136, 0.02409533,\n",
       "        0.00882353, 0.00882353, 0.08454704, 0.02626517, 0.0244107 ,\n",
       "        0.05449782, 0.00882353],\n",
       "       [0.06112506, 0.43483377, 0.0711173 , 0.03773799, 0.02973765,\n",
       "        0.02987004, 0.05045042, 0.00882353, 0.05014396, 0.02403321,\n",
       "        0.00882353, 0.03074897, 0.02751639, 0.02619422, 0.0457084 ,\n",
       "        0.05431204, 0.00882353],\n",
       "       [0.00882353, 0.09063931, 0.56833951, 0.00882353, 0.08805576,\n",
       "        0.00882353, 0.04301184, 0.00882353, 0.04563373, 0.00882353,\n",
       "        0.00882353, 0.00882353, 0.06726102, 0.00882353, 0.00882353,\n",
       "        0.00882353, 0.00882353],\n",
       "       [0.03270201, 0.03585018, 0.00882353, 0.40701987, 0.0484944 ,\n",
       "        0.03240349, 0.09056751, 0.04713236, 0.03107236, 0.04852244,\n",
       "        0.03426744, 0.00882353, 0.00882353, 0.06840302, 0.06268159,\n",
       "        0.02558921, 0.00882353],\n",
       "       [0.03375284, 0.03223484, 0.07635335, 0.05633305, 0.48570032,\n",
       "        0.04340518, 0.03039702, 0.03777688, 0.00882353, 0.03793413,\n",
       "        0.04613879, 0.00882353, 0.03849054, 0.03736542, 0.00882353,\n",
       "        0.00882353, 0.00882353],\n",
       "       [0.05362328, 0.03206938, 0.00882353, 0.03668674, 0.04294477,\n",
       "        0.47935132, 0.00882353, 0.00882353, 0.0314294 , 0.02589621,\n",
       "        0.03070805, 0.00882353, 0.08094887, 0.06809457, 0.00882353,\n",
       "        0.06530625, 0.00882353],\n",
       "       [0.02492039, 0.04856487, 0.03367509, 0.09231595, 0.02722289,\n",
       "        0.00882353, 0.41553699, 0.03464812, 0.02382182, 0.02220436,\n",
       "        0.00882353, 0.00882353, 0.00882353, 0.00882353, 0.04513009,\n",
       "        0.12750572, 0.06033608],\n",
       "       [0.00882353, 0.00882353, 0.00882353, 0.06530636, 0.04446925,\n",
       "        0.00882353, 0.04610213, 0.59592719, 0.04314827, 0.04343237,\n",
       "        0.00882353, 0.00882353, 0.00882353, 0.00882353, 0.04414706,\n",
       "        0.0380556 , 0.00882353],\n",
       "       [0.02845832, 0.06268746, 0.04535852, 0.03985221, 0.00882353,\n",
       "        0.03550374, 0.02930242, 0.0412908 , 0.56415625, 0.00882353,\n",
       "        0.00882353, 0.00882353, 0.00882353, 0.06383206, 0.00882353,\n",
       "        0.02779353, 0.00882353],\n",
       "       [0.02582878, 0.02807078, 0.00882353, 0.06257003, 0.04173247,\n",
       "        0.02838427, 0.02655984, 0.04060259, 0.00882353, 0.54792288,\n",
       "        0.02993051, 0.00882353, 0.02906055, 0.02496794, 0.0424358 ,\n",
       "        0.03663944, 0.00882353],\n",
       "       [0.00882353, 0.00882353, 0.00882353, 0.05171828, 0.06135237,\n",
       "        0.04004614, 0.00882353, 0.00882353, 0.00882353, 0.03510652,\n",
       "        0.68012484, 0.00882353, 0.00882353, 0.03459304, 0.00882353,\n",
       "        0.00882353, 0.00882353],\n",
       "       [0.00882353, 0.04313955, 0.00882353, 0.00882353, 0.00882353,\n",
       "        0.00882353, 0.00882353, 0.00882353, 0.00882353, 0.00882353,\n",
       "        0.00882353, 0.67558205, 0.00882353, 0.05194375, 0.03878727,\n",
       "        0.03362008, 0.05986847],\n",
       "       [0.08836432, 0.03113821, 0.06193814, 0.00882353, 0.04046106,\n",
       "        0.08677738, 0.00882353, 0.00882353, 0.00882353, 0.02791383,\n",
       "        0.00882353, 0.00882353, 0.51737509, 0.00882353, 0.02830805,\n",
       "        0.04713567, 0.00882353],\n",
       "       [0.02674595, 0.02910887, 0.00882353, 0.08325982, 0.03859921,\n",
       "        0.07149103, 0.00882353, 0.00882353, 0.05810253, 0.02372189,\n",
       "        0.02792091, 0.04099698, 0.00882353, 0.50631444, 0.00882353,\n",
       "        0.0407972 , 0.00882353],\n",
       "       [0.02499494, 0.05231305, 0.00882353, 0.07676108, 0.00882353,\n",
       "        0.00882353, 0.05366223, 0.03904432, 0.00882353, 0.04014092,\n",
       "        0.00882353, 0.03139625, 0.02806824, 0.00882353, 0.51111576,\n",
       "        0.08073851, 0.00882353],\n",
       "       [0.04510973, 0.04989376, 0.00882353, 0.02501809, 0.00882353,\n",
       "        0.05499522, 0.12106219, 0.02797447, 0.02196244, 0.02866939,\n",
       "        0.00882353, 0.02312788, 0.03780009, 0.03354378, 0.06389268,\n",
       "        0.39345558, 0.0470241 ],\n",
       "       [0.00882353, 0.00882353, 0.00882353, 0.00882353, 0.00882353,\n",
       "        0.00882353, 0.09147599, 0.00882353, 0.00882353, 0.00882353,\n",
       "        0.00882353, 0.05878273, 0.00882353, 0.00882353, 0.00882353,\n",
       "        0.07363557, 0.66139984]])"
      ]
     },
     "execution_count": 23,
     "metadata": {},
     "output_type": "execute_result"
    }
   ],
   "source": [
    "S"
   ]
  },
  {
   "cell_type": "code",
   "execution_count": 22,
   "metadata": {},
   "outputs": [
    {
     "data": {
      "text/plain": [
       "1.0"
      ]
     },
     "execution_count": 22,
     "metadata": {},
     "output_type": "execute_result"
    }
   ],
   "source": [
    "S[0].sum()"
   ]
  },
  {
   "cell_type": "code",
   "execution_count": 24,
   "metadata": {},
   "outputs": [],
   "source": [
    "# find the limiting / stationary distribution\n",
    "eigenvals, eigenvecs = np.linalg.eig(S.T)"
   ]
  },
  {
   "cell_type": "code",
   "execution_count": 25,
   "metadata": {},
   "outputs": [
    {
     "data": {
      "text/plain": [
       "array([1.        , 0.24245466, 0.72108199, 0.67644122, 0.34790129,\n",
       "       0.34417302, 0.3866884 , 0.40333562, 0.41608572, 0.44238593,\n",
       "       0.63909999, 0.62556792, 0.58922572, 0.57452382, 0.48511399,\n",
       "       0.51329157, 0.52975372])"
      ]
     },
     "execution_count": 25,
     "metadata": {},
     "output_type": "execute_result"
    }
   ],
   "source": [
    "eigenvals"
   ]
  },
  {
   "cell_type": "code",
   "execution_count": 33,
   "metadata": {},
   "outputs": [
    {
     "data": {
      "text/plain": [
       "array([[-0.24206557,  0.04377712, -0.09795041, -0.17120649,  0.37197052,\n",
       "        -0.07807211,  0.0633532 , -0.22641429,  0.18850271,  0.66319382,\n",
       "         0.13967363, -0.11225173, -0.34837879,  0.09100741,  0.14157192,\n",
       "         0.235432  ,  0.08191252],\n",
       "       [-0.27051337,  0.01675531, -0.02050407, -0.17661766, -0.71846797,\n",
       "         0.19978134,  0.45245165, -0.14947402, -0.14647799,  0.26064626,\n",
       "         0.15545193, -0.02759344,  0.08217927, -0.02424053,  0.07812715,\n",
       "         0.066269  , -0.28824215],\n",
       "       [-0.2213806 , -0.05262294, -0.13956121, -0.24098096,  0.33006313,\n",
       "        -0.00243623,  0.05490982, -0.26101717, -0.1027169 , -0.14528343,\n",
       "         0.29992951, -0.30090827,  0.50890324, -0.37948465, -0.04123118,\n",
       "        -0.09913074, -0.09930405],\n",
       "       [-0.28613638, -0.42902783, -0.09548058,  0.02415075,  0.12462774,\n",
       "         0.71290317, -0.29554217,  0.01692517,  0.09273292,  0.09826122,\n",
       "        -0.1875244 ,  0.17139712, -0.03271213,  0.07061452, -0.27278039,\n",
       "        -0.12547525, -0.16463498],\n",
       "       [-0.25065894, -0.01182588, -0.20569009,  0.03964204, -0.1700468 ,\n",
       "        -0.22083528, -0.0010929 ,  0.58574453,  0.34919268,  0.2541832 ,\n",
       "         0.07605774, -0.09677321,  0.15495661, -0.23767094, -0.35621929,\n",
       "        -0.23789687,  0.21147359],\n",
       "       [-0.2499217 ,  0.11399035, -0.14851475, -0.01619582,  0.25227553,\n",
       "         0.20508292,  0.49919379,  0.30979252, -0.29159938, -0.32359219,\n",
       "         0.16791677, -0.09029732, -0.29004336,  0.25873958, -0.14464525,\n",
       "         0.00649604,  0.27893593],\n",
       "       [-0.279622  ,  0.61124745,  0.13042895, -0.10159888,  0.05002878,\n",
       "         0.02058866, -0.40151378,  0.19435449, -0.44014244,  0.14668493,\n",
       "        -0.27458825, -0.09610934,  0.02182431, -0.02580166, -0.18656545,\n",
       "         0.07283515, -0.2969858 ],\n",
       "       [-0.21515455,  0.02368162, -0.0642242 , -0.11126299, -0.02698085,\n",
       "        -0.02156303,  0.09999452, -0.17449005, -0.06256629, -0.00348574,\n",
       "        -0.47318109,  0.41659963,  0.24708296, -0.18089914, -0.01731801,\n",
       "         0.2762502 ,  0.49280731],\n",
       "       [-0.2226665 , -0.00181093, -0.08303143, -0.1760703 ,  0.04058569,\n",
       "        -0.04149721, -0.10707556,  0.25404691,  0.14714675, -0.06335798,\n",
       "         0.0588257 ,  0.12003948,  0.43729348,  0.56956599,  0.45374773,\n",
       "         0.07043795, -0.06665048],\n",
       "       [-0.22745415,  0.03855209, -0.12311464,  0.03799706,  0.02916054,\n",
       "        -0.05355607,  0.01768915, -0.04376809, -0.08805937, -0.00755581,\n",
       "        -0.19631052,  0.16103719, -0.23142618, -0.20514524,  0.48840836,\n",
       "        -0.70112448,  0.00985547],\n",
       "       [-0.2059112 ,  0.01311278, -0.3367211 ,  0.82028445, -0.00280862,\n",
       "        -0.0272282 , -0.00655574, -0.06932373, -0.03581486, -0.01075501,\n",
       "        -0.01839073, -0.12092197,  0.07809729, -0.03155971,  0.11651604,\n",
       "         0.20847902, -0.07974741],\n",
       "       [-0.20959727,  0.00645813,  0.57892592,  0.24716903,  0.05548133,\n",
       "         0.030842  , -0.05416722,  0.08020067, -0.05526866,  0.04004879,\n",
       "         0.46680335,  0.42050277,  0.02777703, -0.1673572 ,  0.06708641,\n",
       "         0.04028615,  0.07597359],\n",
       "       [-0.23526242,  0.02476258, -0.14287345, -0.20510326, -0.30750462,\n",
       "         0.07525044, -0.44640816, -0.06758551,  0.1099261 , -0.33352583,\n",
       "         0.25839389, -0.25640344, -0.31974151, -0.15632627,  0.19420356,\n",
       "         0.22848195,  0.30963355],\n",
       "       [-0.24203809,  0.12701841, -0.0423449 ,  0.08770229, -0.10754285,\n",
       "        -0.22773478, -0.09800295, -0.50097541,  0.1042544 , -0.11948943,\n",
       "         0.15678534,  0.1758032 , -0.00668345,  0.46047762, -0.45053956,\n",
       "        -0.32546322,  0.06668046],\n",
       "       [-0.23663025,  0.1201276 ,  0.05784567, -0.09518284,  0.11346892,\n",
       "        -0.10221592,  0.20194026,  0.01655337,  0.4895745 , -0.3678478 ,\n",
       "        -0.17895947,  0.22445531, -0.21230312, -0.20055657, -0.04491732,\n",
       "         0.21380096, -0.49247227],\n",
       "       [-0.2940483 , -0.62481562,  0.13056125, -0.10462468, -0.01893009,\n",
       "        -0.52590791, -0.07866291,  0.10868209, -0.43708916, -0.05187881,\n",
       "        -0.14588773, -0.05514702, -0.19319552,  0.06298687, -0.08082106,\n",
       "         0.15435782, -0.19190517],\n",
       "       [-0.20865607, -0.01938024,  0.60224904,  0.14189825, -0.01538036,\n",
       "         0.05659823,  0.09948902, -0.07325149,  0.17840498, -0.0362462 ,\n",
       "        -0.30499566, -0.53342896,  0.07636988,  0.09564992,  0.05537633,\n",
       "        -0.08403566,  0.15266991]])"
      ]
     },
     "execution_count": 33,
     "metadata": {},
     "output_type": "execute_result"
    }
   ],
   "source": [
    "eigenvecs"
   ]
  },
  {
   "cell_type": "code",
   "execution_count": 31,
   "metadata": {},
   "outputs": [
    {
     "data": {
      "text/plain": [
       "array([-0.24206557,  0.04377712, -0.09795041, -0.17120649,  0.37197052,\n",
       "       -0.07807211,  0.0633532 , -0.22641429,  0.18850271,  0.66319382,\n",
       "        0.13967363, -0.11225173, -0.34837879,  0.09100741,  0.14157192,\n",
       "        0.235432  ,  0.08191252])"
      ]
     },
     "execution_count": 31,
     "metadata": {},
     "output_type": "execute_result"
    }
   ],
   "source": [
    "eigenvecs[0]"
   ]
  },
  {
   "cell_type": "code",
   "execution_count": 32,
   "metadata": {},
   "outputs": [
    {
     "data": {
      "text/plain": [
       "array([-0.24206557, -0.27051337, -0.2213806 , -0.28613638, -0.25065894,\n",
       "       -0.2499217 , -0.279622  , -0.21515455, -0.2226665 , -0.22745415,\n",
       "       -0.2059112 , -0.20959727, -0.23526242, -0.24203809, -0.23663025,\n",
       "       -0.2940483 , -0.20865607])"
      ]
     },
     "execution_count": 32,
     "metadata": {},
     "output_type": "execute_result"
    }
   ],
   "source": [
    "eigenvecs[:,0]"
   ]
  },
  {
   "cell_type": "code",
   "execution_count": 34,
   "metadata": {},
   "outputs": [
    {
     "data": {
      "text/plain": [
       "array([-0.24206557, -0.27051337, -0.2213806 , -0.28613638, -0.25065894,\n",
       "       -0.2499217 , -0.279622  , -0.21515455, -0.2226665 , -0.22745415,\n",
       "       -0.2059112 , -0.20959727, -0.23526242, -0.24203809, -0.23663025,\n",
       "       -0.2940483 , -0.20865607])"
      ]
     },
     "execution_count": 34,
     "metadata": {},
     "output_type": "execute_result"
    }
   ],
   "source": [
    "eigenvecs[:,0].dot(S)"
   ]
  },
  {
   "cell_type": "code",
   "execution_count": 35,
   "metadata": {},
   "outputs": [
    {
     "data": {
      "text/plain": [
       "array([0.05907327, 0.06601563, 0.05402535, 0.06982824, 0.06117038,\n",
       "       0.06099047, 0.06823848, 0.05250595, 0.05433915, 0.05550753,\n",
       "       0.05025022, 0.05114976, 0.05741304, 0.05906657, 0.05774684,\n",
       "       0.07175905, 0.05092007])"
      ]
     },
     "execution_count": 35,
     "metadata": {},
     "output_type": "execute_result"
    }
   ],
   "source": [
    "eigenvecs[:,0] / eigenvecs[:,0].sum()"
   ]
  },
  {
   "cell_type": "code",
   "execution_count": 36,
   "metadata": {},
   "outputs": [
    {
     "name": "stdout",
     "output_type": "stream",
     "text": [
      "41\n"
     ]
    }
   ],
   "source": [
    "limiting_dist = np.ones(len(S)) / len(S)\n",
    "threshold = 1e-8\n",
    "delta = float(\"inf\")\n",
    "iters = 0\n",
    "while delta > threshold:\n",
    "    iters += 1\n",
    "\n",
    "    # Markov transition\n",
    "    p = limiting_dist.dot(S)\n",
    "\n",
    "    # compute change in limiting distribution\n",
    "    delta = np.abs(p - limiting_dist).sum()\n",
    "\n",
    "    # update limiting distribution\n",
    "    limiting_dist = p\n",
    "\n",
    "print(iters)"
   ]
  },
  {
   "cell_type": "code",
   "execution_count": 37,
   "metadata": {},
   "outputs": [
    {
     "data": {
      "text/plain": [
       "array([0.05907327, 0.06601563, 0.05402534, 0.06982824, 0.06117038,\n",
       "       0.06099047, 0.06823848, 0.05250595, 0.05433915, 0.05550753,\n",
       "       0.05025022, 0.05114977, 0.05741304, 0.05906657, 0.05774685,\n",
       "       0.07175905, 0.05092008])"
      ]
     },
     "execution_count": 37,
     "metadata": {},
     "output_type": "execute_result"
    }
   ],
   "source": [
    "limiting_dist"
   ]
  },
  {
   "cell_type": "code",
   "execution_count": 39,
   "metadata": {},
   "outputs": [
    {
     "data": {
      "text/plain": [
       "0.9999999999999981"
      ]
     },
     "execution_count": 39,
     "metadata": {},
     "output_type": "execute_result"
    }
   ],
   "source": [
    "limiting_dist.sum()"
   ]
  },
  {
   "cell_type": "code",
   "execution_count": 42,
   "metadata": {},
   "outputs": [
    {
     "data": {
      "text/plain": [
       "1.9964739035593926e-08"
      ]
     },
     "execution_count": 42,
     "metadata": {},
     "output_type": "execute_result"
    }
   ],
   "source": [
    "np.abs(eigenvecs[:,0] / eigenvecs[:,0].sum() - limiting_dist).sum()"
   ]
  },
  {
   "cell_type": "code",
   "execution_count": 43,
   "metadata": {},
   "outputs": [],
   "source": [
    "scores = limiting_dist"
   ]
  },
  {
   "cell_type": "code",
   "execution_count": 44,
   "metadata": {},
   "outputs": [],
   "source": [
    "sort_idx = np.argsort(-scores)"
   ]
  },
  {
   "cell_type": "code",
   "execution_count": 45,
   "metadata": {},
   "outputs": [
    {
     "name": "stdout",
     "output_type": "stream",
     "text": [
      "Generated summary:\n",
      "0.07: \"The retail sales figures are very weak, but as Bank of England\n",
      "governor Mervyn King indicated last night, you don't really get an\n",
      "accurate impression of Christmas trading until about Easter,\" said Mr\n",
      "Shaw.\n",
      "0.07: A number of retailers have already reported poor figures for\n",
      "December.\n",
      "0.07: The ONS echoed an earlier caution from Bank of England governor\n",
      "Mervyn King not to read too much into the poor December figures.\n",
      "0.07: Retail sales dropped by 1% on the month in December, after a\n",
      "0.6% rise in November, the Office for National Statistics (ONS) said.\n",
      "0.06: Clothing retailers and non-specialist stores were the worst hit\n",
      "with only internet retailers showing any significant growth, according\n",
      "to the ONS.\n"
     ]
    }
   ],
   "source": [
    "# Options for how tochoose which sentences to include:\n",
    "\n",
    "# 1) top N sentences\n",
    "# 2) top N words or characters.\n",
    "# 3) top X% sentences or top X% words\n",
    "# 4) sentences with scores > average score\n",
    "# 5) sentences with scores > factor * average score\n",
    "\n",
    "print(\"Generated summary:\")\n",
    "for i in sort_idx[:5]:\n",
    "    print(wrap(\"%.2f: %s\" % (scores[i], sents[i])))"
   ]
  }
 ],
 "metadata": {
  "kernelspec": {
   "display_name": "env-01",
   "language": "python",
   "name": "python3"
  },
  "language_info": {
   "codemirror_mode": {
    "name": "ipython",
    "version": 3
   },
   "file_extension": ".py",
   "mimetype": "text/x-python",
   "name": "python",
   "nbconvert_exporter": "python",
   "pygments_lexer": "ipython3",
   "version": "3.10.9"
  },
  "orig_nbformat": 4
 },
 "nbformat": 4,
 "nbformat_minor": 2
}
