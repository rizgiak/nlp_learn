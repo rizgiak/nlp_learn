{
 "cells": [
  {
   "cell_type": "code",
   "execution_count": 1,
   "metadata": {
    "executionInfo": {
     "elapsed": 279,
     "status": "ok",
     "timestamp": 1686547683170,
     "user": {
      "displayName": "Aulia Khilmi Rizgi",
      "userId": "16465661636667067588"
     },
     "user_tz": -540
    },
    "id": "2Hwzmtlra44s"
   },
   "outputs": [],
   "source": [
    "import numpy as np\n",
    "import tensorflow as tf\n",
    "import matplotlib.pyplot as plt\n",
    "\n",
    "from tensorflow import keras\n",
    "\n",
    "from keras.layers import Dense, Input\n",
    "from keras.models import Model\n",
    "from keras.optimizers import Adam"
   ]
  },
  {
   "cell_type": "code",
   "execution_count": 2,
   "metadata": {
    "executionInfo": {
     "elapsed": 6,
     "status": "ok",
     "timestamp": 1686547683453,
     "user": {
      "displayName": "Aulia Khilmi Rizgi",
      "userId": "16465661636667067588"
     },
     "user_tz": -540
    },
    "id": "w_KVTHwfa44w"
   },
   "outputs": [],
   "source": [
    "N = 100\n",
    "X = np.random.random(N) * 6 -3\n",
    "y = 0.5 * X - 1 + np.random.randn(N) * 0.5"
   ]
  },
  {
   "cell_type": "code",
   "execution_count": 3,
   "metadata": {},
   "outputs": [
    {
     "name": "stdout",
     "output_type": "stream",
     "text": [
      "2.10.0\n"
     ]
    }
   ],
   "source": [
    "print(tf.__version__)"
   ]
  },
  {
   "cell_type": "code",
   "execution_count": 4,
   "metadata": {
    "colab": {
     "base_uri": "https://localhost:8080/",
     "height": 447
    },
    "executionInfo": {
     "elapsed": 462,
     "status": "ok",
     "timestamp": 1686547683910,
     "user": {
      "displayName": "Aulia Khilmi Rizgi",
      "userId": "16465661636667067588"
     },
     "user_tz": -540
    },
    "id": "OaRDu0hWa44x",
    "outputId": "2a3faacd-b06b-4af1-9ed8-aad0d96c45aa"
   },
   "outputs": [
    {
     "data": {
      "text/plain": [
       "<matplotlib.collections.PathCollection at 0x2098f337490>"
      ]
     },
     "execution_count": 4,
     "metadata": {},
     "output_type": "execute_result"
    },
    {
     "data": {
      "image/png": "[encoded data removed]",
      "text/plain": [
       "<Figure size 640x480 with 1 Axes>"
      ]
     },
     "metadata": {},
     "output_type": "display_data"
    }
   ],
   "source": [
    "plt.scatter(X, y)"
   ]
  },
  {
   "cell_type": "code",
   "execution_count": 2,
   "metadata": {
    "executionInfo": {
     "elapsed": 11,
     "status": "ok",
     "timestamp": 1686547683911,
     "user": {
      "displayName": "Aulia Khilmi Rizgi",
      "userId": "16465661636667067588"
     },
     "user_tz": -540
    },
    "id": "ABkbwZzda44y"
   },
   "outputs": [
    {
     "ename": "NameError",
     "evalue": "name 'Input' is not defined",
     "output_type": "error",
     "traceback": [
      "\u001b[1;31m---------------------------------------------------------------------------\u001b[0m",
      "\u001b[1;31mNameError\u001b[0m                                 Traceback (most recent call last)",
      "Cell \u001b[1;32mIn[2], line 2\u001b[0m\n\u001b[0;32m      1\u001b[0m \u001b[38;5;66;03m# build model\u001b[39;00m\n\u001b[1;32m----> 2\u001b[0m i \u001b[38;5;241m=\u001b[39m \u001b[43mInput\u001b[49m(shape\u001b[38;5;241m=\u001b[39m(\u001b[38;5;241m1\u001b[39m,))\n\u001b[0;32m      3\u001b[0m x \u001b[38;5;241m=\u001b[39m Dense(\u001b[38;5;241m1\u001b[39m)(i)\n\u001b[0;32m      5\u001b[0m model \u001b[38;5;241m=\u001b[39m Model(i, x)\n",
      "\u001b[1;31mNameError\u001b[0m: name 'Input' is not defined"
     ]
    }
   ],
   "source": [
    "# build model\n",
    "i = Input(shape=(1,))\n",
    "x = Dense(1)(i)\n",
    "\n",
    "model = Model(i, x)"
   ]
  },
  {
   "cell_type": "code",
   "execution_count": null,
   "metadata": {
    "colab": {
     "base_uri": "https://localhost:8080/"
    },
    "executionInfo": {
     "elapsed": 10,
     "status": "ok",
     "timestamp": 1686547683911,
     "user": {
      "displayName": "Aulia Khilmi Rizgi",
      "userId": "16465661636667067588"
     },
     "user_tz": -540
    },
    "id": "IntYACmtbA0I",
    "outputId": "d5d8368b-c12a-4343-ef4f-606bf0d6ec96"
   },
   "outputs": [],
   "source": [
    "model.summary()"
   ]
  },
  {
   "cell_type": "code",
   "execution_count": null,
   "metadata": {
    "executionInfo": {
     "elapsed": 7,
     "status": "ok",
     "timestamp": 1686547683912,
     "user": {
      "displayName": "Aulia Khilmi Rizgi",
      "userId": "16465661636667067588"
     },
     "user_tz": -540
    },
    "id": "ci8ftMbqB-dK"
   },
   "outputs": [],
   "source": [
    "model.compile(\n",
    "    loss=\"mse\",\n",
    "    # optimizer=\"adam\",\n",
    "    optimizer=Adam(learning_rate=0.1),\n",
    "    metrics=[\"mae\"]\n",
    ")"
   ]
  },
  {
   "cell_type": "code",
   "execution_count": null,
   "metadata": {
    "colab": {
     "base_uri": "https://localhost:8080/"
    },
    "executionInfo": {
     "elapsed": 4937,
     "status": "ok",
     "timestamp": 1686547688842,
     "user": {
      "displayName": "Aulia Khilmi Rizgi",
      "userId": "16465661636667067588"
     },
     "user_tz": -540
    },
    "id": "fEMf1yTNChFV",
    "outputId": "2def1513-fb72-4a48-8c89-1d48977cf368"
   },
   "outputs": [],
   "source": [
    "r = model.fit(\n",
    "    X.reshape(-1, 1), y,\n",
    "    epochs=200,\n",
    "    batch_size=32,\n",
    ")"
   ]
  },
  {
   "cell_type": "code",
   "execution_count": null,
   "metadata": {
    "colab": {
     "base_uri": "https://localhost:8080/",
     "height": 430
    },
    "executionInfo": {
     "elapsed": 595,
     "status": "ok",
     "timestamp": 1686547689426,
     "user": {
      "displayName": "Aulia Khilmi Rizgi",
      "userId": "16465661636667067588"
     },
     "user_tz": -540
    },
    "id": "AX0UtofNDly5",
    "outputId": "eb1d307c-92f2-41f5-f7ad-611037c60d8d"
   },
   "outputs": [],
   "source": [
    "# Plot loss per iteration\n",
    "plt.plot(r.history[\"loss\"], label=\"loss\")\n",
    "plt.legend();"
   ]
  },
  {
   "cell_type": "code",
   "execution_count": null,
   "metadata": {
    "colab": {
     "base_uri": "https://localhost:8080/",
     "height": 430
    },
    "executionInfo": {
     "elapsed": 778,
     "status": "ok",
     "timestamp": 1686547695457,
     "user": {
      "displayName": "Aulia Khilmi Rizgi",
      "userId": "16465661636667067588"
     },
     "user_tz": -540
    },
    "id": "2gha_dN2D1A-",
    "outputId": "848e1302-6d15-460d-d204-d165cf56c2a6"
   },
   "outputs": [],
   "source": [
    "# Plot mae per iteration\n",
    "plt.plot(r.history[\"mae\"], label=\"mae\")\n",
    "plt.legend();"
   ]
  },
  {
   "cell_type": "code",
   "execution_count": null,
   "metadata": {
    "colab": {
     "base_uri": "https://localhost:8080/"
    },
    "executionInfo": {
     "elapsed": 408,
     "status": "ok",
     "timestamp": 1686547779421,
     "user": {
      "displayName": "Aulia Khilmi Rizgi",
      "userId": "16465661636667067588"
     },
     "user_tz": -540
    },
    "id": "3uI6a5-hE5Lr",
    "outputId": "490a4f05-d55e-446b-abd5-ec14216da046"
   },
   "outputs": [],
   "source": [
    "# Make predictions\n",
    "Xtest = np.linspace(-3, 3, 20).reshape(-1, 1)\n",
    "ptest = model.predict(Xtest)"
   ]
  },
  {
   "cell_type": "code",
   "execution_count": null,
   "metadata": {
    "colab": {
     "base_uri": "https://localhost:8080/",
     "height": 430
    },
    "executionInfo": {
     "elapsed": 622,
     "status": "ok",
     "timestamp": 1686547894066,
     "user": {
      "displayName": "Aulia Khilmi Rizgi",
      "userId": "16465661636667067588"
     },
     "user_tz": -540
    },
    "id": "nL8d-IbQFijF",
    "outputId": "130288ec-f28e-4576-dcb5-23437afe1c7e"
   },
   "outputs": [],
   "source": [
    "plt.scatter(X, y)\n",
    "plt.plot(Xtest, ptest);"
   ]
  },
  {
   "cell_type": "code",
   "execution_count": null,
   "metadata": {
    "colab": {
     "base_uri": "https://localhost:8080/"
    },
    "executionInfo": {
     "elapsed": 258,
     "status": "ok",
     "timestamp": 1686547956345,
     "user": {
      "displayName": "Aulia Khilmi Rizgi",
      "userId": "16465661636667067588"
     },
     "user_tz": -540
    },
    "id": "ePGWsRC5FO8K",
    "outputId": "2a66c687-2ffe-4699-fe41-22ff1d09b323"
   },
   "outputs": [],
   "source": [
    "# Check the learned paramteres\n",
    "model.layers"
   ]
  },
  {
   "cell_type": "code",
   "execution_count": null,
   "metadata": {
    "colab": {
     "base_uri": "https://localhost:8080/"
    },
    "executionInfo": {
     "elapsed": 8,
     "status": "ok",
     "timestamp": 1686547957529,
     "user": {
      "displayName": "Aulia Khilmi Rizgi",
      "userId": "16465661636667067588"
     },
     "user_tz": -540
    },
    "id": "J_kNXJxoFSz8",
    "outputId": "adff60bb-d685-4664-9dca-27ae42cd3df0"
   },
   "outputs": [],
   "source": [
    "model.layers[1].get_weights()"
   ]
  }
 ],
 "metadata": {
  "colab": {
   "provenance": []
  },
  "kernelspec": {
   "display_name": "Python 3 (ipykernel)",
   "language": "python",
   "name": "python3"
  },
  "language_info": {
   "codemirror_mode": {
    "name": "ipython",
    "version": 3
   },
   "file_extension": ".py",
   "mimetype": "text/x-python",
   "name": "python",
   "nbconvert_exporter": "python",
   "pygments_lexer": "ipython3",
   "version": "3.10.11"
  }
 },
 "nbformat": 4,
 "nbformat_minor": 4
}
